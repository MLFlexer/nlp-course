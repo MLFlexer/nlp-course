{
  "nbformat": 4,
  "nbformat_minor": 0,
  "metadata": {
    "colab": {
      "provenance": [],
      "gpuType": "T4",
      "authorship_tag": "ABX9TyPa10zJj5RPx8xvnlp24B+/",
      "include_colab_link": true
    },
    "kernelspec": {
      "name": "python3",
      "display_name": "Python 3"
    },
    "language_info": {
      "name": "python"
    },
    "accelerator": "GPU",
    "widgets": {
      "application/vnd.jupyter.widget-state+json": {
        "26d4aa7cf7284d44beccaffc11cb051c": {
          "model_module": "@jupyter-widgets/controls",
          "model_name": "HBoxModel",
          "model_module_version": "1.5.0",
          "state": {
            "_dom_classes": [],
            "_model_module": "@jupyter-widgets/controls",
            "_model_module_version": "1.5.0",
            "_model_name": "HBoxModel",
            "_view_count": null,
            "_view_module": "@jupyter-widgets/controls",
            "_view_module_version": "1.5.0",
            "_view_name": "HBoxView",
            "box_style": "",
            "children": [
              "IPY_MODEL_67897069762c40658ced65a742355869",
              "IPY_MODEL_13ecca4ce65b48fb9288073930d0fd45",
              "IPY_MODEL_2fc457ef6897481482750337181d8a98"
            ],
            "layout": "IPY_MODEL_82553d004cad48e69feefaace5bd5944"
          }
        },
        "67897069762c40658ced65a742355869": {
          "model_module": "@jupyter-widgets/controls",
          "model_name": "HTMLModel",
          "model_module_version": "1.5.0",
          "state": {
            "_dom_classes": [],
            "_model_module": "@jupyter-widgets/controls",
            "_model_module_version": "1.5.0",
            "_model_name": "HTMLModel",
            "_view_count": null,
            "_view_module": "@jupyter-widgets/controls",
            "_view_module_version": "1.5.0",
            "_view_name": "HTMLView",
            "description": "",
            "description_tooltip": null,
            "layout": "IPY_MODEL_1a994b43feab49b29bef35159151c868",
            "placeholder": "​",
            "style": "IPY_MODEL_ff3a59810f56463ea86f075032454ce8",
            "value": "Map: 100%"
          }
        },
        "13ecca4ce65b48fb9288073930d0fd45": {
          "model_module": "@jupyter-widgets/controls",
          "model_name": "FloatProgressModel",
          "model_module_version": "1.5.0",
          "state": {
            "_dom_classes": [],
            "_model_module": "@jupyter-widgets/controls",
            "_model_module_version": "1.5.0",
            "_model_name": "FloatProgressModel",
            "_view_count": null,
            "_view_module": "@jupyter-widgets/controls",
            "_view_module_version": "1.5.0",
            "_view_name": "ProgressView",
            "bar_style": "success",
            "description": "",
            "description_tooltip": null,
            "layout": "IPY_MODEL_8d9b7c9dad2542d1be687f4bb4143ad6",
            "max": 11394,
            "min": 0,
            "orientation": "horizontal",
            "style": "IPY_MODEL_f070dd90187d40b182bb7d3260acbe78",
            "value": 11394
          }
        },
        "2fc457ef6897481482750337181d8a98": {
          "model_module": "@jupyter-widgets/controls",
          "model_name": "HTMLModel",
          "model_module_version": "1.5.0",
          "state": {
            "_dom_classes": [],
            "_model_module": "@jupyter-widgets/controls",
            "_model_module_version": "1.5.0",
            "_model_name": "HTMLModel",
            "_view_count": null,
            "_view_module": "@jupyter-widgets/controls",
            "_view_module_version": "1.5.0",
            "_view_name": "HTMLView",
            "description": "",
            "description_tooltip": null,
            "layout": "IPY_MODEL_498e82b151cc40848c8ae1f528bdb4db",
            "placeholder": "​",
            "style": "IPY_MODEL_82c025e832744f87acfb987639e0e875",
            "value": " 11394/11394 [00:18&lt;00:00, 742.98 examples/s]"
          }
        },
        "82553d004cad48e69feefaace5bd5944": {
          "model_module": "@jupyter-widgets/base",
          "model_name": "LayoutModel",
          "model_module_version": "1.2.0",
          "state": {
            "_model_module": "@jupyter-widgets/base",
            "_model_module_version": "1.2.0",
            "_model_name": "LayoutModel",
            "_view_count": null,
            "_view_module": "@jupyter-widgets/base",
            "_view_module_version": "1.2.0",
            "_view_name": "LayoutView",
            "align_content": null,
            "align_items": null,
            "align_self": null,
            "border": null,
            "bottom": null,
            "display": null,
            "flex": null,
            "flex_flow": null,
            "grid_area": null,
            "grid_auto_columns": null,
            "grid_auto_flow": null,
            "grid_auto_rows": null,
            "grid_column": null,
            "grid_gap": null,
            "grid_row": null,
            "grid_template_areas": null,
            "grid_template_columns": null,
            "grid_template_rows": null,
            "height": null,
            "justify_content": null,
            "justify_items": null,
            "left": null,
            "margin": null,
            "max_height": null,
            "max_width": null,
            "min_height": null,
            "min_width": null,
            "object_fit": null,
            "object_position": null,
            "order": null,
            "overflow": null,
            "overflow_x": null,
            "overflow_y": null,
            "padding": null,
            "right": null,
            "top": null,
            "visibility": null,
            "width": null
          }
        },
        "1a994b43feab49b29bef35159151c868": {
          "model_module": "@jupyter-widgets/base",
          "model_name": "LayoutModel",
          "model_module_version": "1.2.0",
          "state": {
            "_model_module": "@jupyter-widgets/base",
            "_model_module_version": "1.2.0",
            "_model_name": "LayoutModel",
            "_view_count": null,
            "_view_module": "@jupyter-widgets/base",
            "_view_module_version": "1.2.0",
            "_view_name": "LayoutView",
            "align_content": null,
            "align_items": null,
            "align_self": null,
            "border": null,
            "bottom": null,
            "display": null,
            "flex": null,
            "flex_flow": null,
            "grid_area": null,
            "grid_auto_columns": null,
            "grid_auto_flow": null,
            "grid_auto_rows": null,
            "grid_column": null,
            "grid_gap": null,
            "grid_row": null,
            "grid_template_areas": null,
            "grid_template_columns": null,
            "grid_template_rows": null,
            "height": null,
            "justify_content": null,
            "justify_items": null,
            "left": null,
            "margin": null,
            "max_height": null,
            "max_width": null,
            "min_height": null,
            "min_width": null,
            "object_fit": null,
            "object_position": null,
            "order": null,
            "overflow": null,
            "overflow_x": null,
            "overflow_y": null,
            "padding": null,
            "right": null,
            "top": null,
            "visibility": null,
            "width": null
          }
        },
        "ff3a59810f56463ea86f075032454ce8": {
          "model_module": "@jupyter-widgets/controls",
          "model_name": "DescriptionStyleModel",
          "model_module_version": "1.5.0",
          "state": {
            "_model_module": "@jupyter-widgets/controls",
            "_model_module_version": "1.5.0",
            "_model_name": "DescriptionStyleModel",
            "_view_count": null,
            "_view_module": "@jupyter-widgets/base",
            "_view_module_version": "1.2.0",
            "_view_name": "StyleView",
            "description_width": ""
          }
        },
        "8d9b7c9dad2542d1be687f4bb4143ad6": {
          "model_module": "@jupyter-widgets/base",
          "model_name": "LayoutModel",
          "model_module_version": "1.2.0",
          "state": {
            "_model_module": "@jupyter-widgets/base",
            "_model_module_version": "1.2.0",
            "_model_name": "LayoutModel",
            "_view_count": null,
            "_view_module": "@jupyter-widgets/base",
            "_view_module_version": "1.2.0",
            "_view_name": "LayoutView",
            "align_content": null,
            "align_items": null,
            "align_self": null,
            "border": null,
            "bottom": null,
            "display": null,
            "flex": null,
            "flex_flow": null,
            "grid_area": null,
            "grid_auto_columns": null,
            "grid_auto_flow": null,
            "grid_auto_rows": null,
            "grid_column": null,
            "grid_gap": null,
            "grid_row": null,
            "grid_template_areas": null,
            "grid_template_columns": null,
            "grid_template_rows": null,
            "height": null,
            "justify_content": null,
            "justify_items": null,
            "left": null,
            "margin": null,
            "max_height": null,
            "max_width": null,
            "min_height": null,
            "min_width": null,
            "object_fit": null,
            "object_position": null,
            "order": null,
            "overflow": null,
            "overflow_x": null,
            "overflow_y": null,
            "padding": null,
            "right": null,
            "top": null,
            "visibility": null,
            "width": null
          }
        },
        "f070dd90187d40b182bb7d3260acbe78": {
          "model_module": "@jupyter-widgets/controls",
          "model_name": "ProgressStyleModel",
          "model_module_version": "1.5.0",
          "state": {
            "_model_module": "@jupyter-widgets/controls",
            "_model_module_version": "1.5.0",
            "_model_name": "ProgressStyleModel",
            "_view_count": null,
            "_view_module": "@jupyter-widgets/base",
            "_view_module_version": "1.2.0",
            "_view_name": "StyleView",
            "bar_color": null,
            "description_width": ""
          }
        },
        "498e82b151cc40848c8ae1f528bdb4db": {
          "model_module": "@jupyter-widgets/base",
          "model_name": "LayoutModel",
          "model_module_version": "1.2.0",
          "state": {
            "_model_module": "@jupyter-widgets/base",
            "_model_module_version": "1.2.0",
            "_model_name": "LayoutModel",
            "_view_count": null,
            "_view_module": "@jupyter-widgets/base",
            "_view_module_version": "1.2.0",
            "_view_name": "LayoutView",
            "align_content": null,
            "align_items": null,
            "align_self": null,
            "border": null,
            "bottom": null,
            "display": null,
            "flex": null,
            "flex_flow": null,
            "grid_area": null,
            "grid_auto_columns": null,
            "grid_auto_flow": null,
            "grid_auto_rows": null,
            "grid_column": null,
            "grid_gap": null,
            "grid_row": null,
            "grid_template_areas": null,
            "grid_template_columns": null,
            "grid_template_rows": null,
            "height": null,
            "justify_content": null,
            "justify_items": null,
            "left": null,
            "margin": null,
            "max_height": null,
            "max_width": null,
            "min_height": null,
            "min_width": null,
            "object_fit": null,
            "object_position": null,
            "order": null,
            "overflow": null,
            "overflow_x": null,
            "overflow_y": null,
            "padding": null,
            "right": null,
            "top": null,
            "visibility": null,
            "width": null
          }
        },
        "82c025e832744f87acfb987639e0e875": {
          "model_module": "@jupyter-widgets/controls",
          "model_name": "DescriptionStyleModel",
          "model_module_version": "1.5.0",
          "state": {
            "_model_module": "@jupyter-widgets/controls",
            "_model_module_version": "1.5.0",
            "_model_name": "DescriptionStyleModel",
            "_view_count": null,
            "_view_module": "@jupyter-widgets/base",
            "_view_module_version": "1.2.0",
            "_view_name": "StyleView",
            "description_width": ""
          }
        },
        "ff373df92b834036ad963a91955bbd1b": {
          "model_module": "@jupyter-widgets/controls",
          "model_name": "HBoxModel",
          "model_module_version": "1.5.0",
          "state": {
            "_dom_classes": [],
            "_model_module": "@jupyter-widgets/controls",
            "_model_module_version": "1.5.0",
            "_model_name": "HBoxModel",
            "_view_count": null,
            "_view_module": "@jupyter-widgets/controls",
            "_view_module_version": "1.5.0",
            "_view_name": "HBoxView",
            "box_style": "",
            "children": [
              "IPY_MODEL_955f869efde2433188550c262be29fa6",
              "IPY_MODEL_217e97a5a69c41f8be85c6123affeb03",
              "IPY_MODEL_ed08cd57502444c9abb8d49259d2f18b"
            ],
            "layout": "IPY_MODEL_8d10165cde2942d1ba9a2c512d1aad14"
          }
        },
        "955f869efde2433188550c262be29fa6": {
          "model_module": "@jupyter-widgets/controls",
          "model_name": "HTMLModel",
          "model_module_version": "1.5.0",
          "state": {
            "_dom_classes": [],
            "_model_module": "@jupyter-widgets/controls",
            "_model_module_version": "1.5.0",
            "_model_name": "HTMLModel",
            "_view_count": null,
            "_view_module": "@jupyter-widgets/controls",
            "_view_module_version": "1.5.0",
            "_view_name": "HTMLView",
            "description": "",
            "description_tooltip": null,
            "layout": "IPY_MODEL_7b824e331c524d8a89d0b8ac67bc78fa",
            "placeholder": "​",
            "style": "IPY_MODEL_95a3a1b8b32843f19ab7ad0b6b62b683",
            "value": "Map: 100%"
          }
        },
        "217e97a5a69c41f8be85c6123affeb03": {
          "model_module": "@jupyter-widgets/controls",
          "model_name": "FloatProgressModel",
          "model_module_version": "1.5.0",
          "state": {
            "_dom_classes": [],
            "_model_module": "@jupyter-widgets/controls",
            "_model_module_version": "1.5.0",
            "_model_name": "FloatProgressModel",
            "_view_count": null,
            "_view_module": "@jupyter-widgets/controls",
            "_view_module_version": "1.5.0",
            "_view_name": "ProgressView",
            "bar_style": "success",
            "description": "",
            "description_tooltip": null,
            "layout": "IPY_MODEL_10448e87ef3d4dde898f230ff819a659",
            "max": 1191,
            "min": 0,
            "orientation": "horizontal",
            "style": "IPY_MODEL_8787200ae0ab42d2a280649406dccd3d",
            "value": 1191
          }
        },
        "ed08cd57502444c9abb8d49259d2f18b": {
          "model_module": "@jupyter-widgets/controls",
          "model_name": "HTMLModel",
          "model_module_version": "1.5.0",
          "state": {
            "_dom_classes": [],
            "_model_module": "@jupyter-widgets/controls",
            "_model_module_version": "1.5.0",
            "_model_name": "HTMLModel",
            "_view_count": null,
            "_view_module": "@jupyter-widgets/controls",
            "_view_module_version": "1.5.0",
            "_view_name": "HTMLView",
            "description": "",
            "description_tooltip": null,
            "layout": "IPY_MODEL_b0d1a10c9c944dbd8c0d7866efd1c588",
            "placeholder": "​",
            "style": "IPY_MODEL_cc7b263869274af79be78e140481a476",
            "value": " 1191/1191 [00:01&lt;00:00, 1147.95 examples/s]"
          }
        },
        "8d10165cde2942d1ba9a2c512d1aad14": {
          "model_module": "@jupyter-widgets/base",
          "model_name": "LayoutModel",
          "model_module_version": "1.2.0",
          "state": {
            "_model_module": "@jupyter-widgets/base",
            "_model_module_version": "1.2.0",
            "_model_name": "LayoutModel",
            "_view_count": null,
            "_view_module": "@jupyter-widgets/base",
            "_view_module_version": "1.2.0",
            "_view_name": "LayoutView",
            "align_content": null,
            "align_items": null,
            "align_self": null,
            "border": null,
            "bottom": null,
            "display": null,
            "flex": null,
            "flex_flow": null,
            "grid_area": null,
            "grid_auto_columns": null,
            "grid_auto_flow": null,
            "grid_auto_rows": null,
            "grid_column": null,
            "grid_gap": null,
            "grid_row": null,
            "grid_template_areas": null,
            "grid_template_columns": null,
            "grid_template_rows": null,
            "height": null,
            "justify_content": null,
            "justify_items": null,
            "left": null,
            "margin": null,
            "max_height": null,
            "max_width": null,
            "min_height": null,
            "min_width": null,
            "object_fit": null,
            "object_position": null,
            "order": null,
            "overflow": null,
            "overflow_x": null,
            "overflow_y": null,
            "padding": null,
            "right": null,
            "top": null,
            "visibility": null,
            "width": null
          }
        },
        "7b824e331c524d8a89d0b8ac67bc78fa": {
          "model_module": "@jupyter-widgets/base",
          "model_name": "LayoutModel",
          "model_module_version": "1.2.0",
          "state": {
            "_model_module": "@jupyter-widgets/base",
            "_model_module_version": "1.2.0",
            "_model_name": "LayoutModel",
            "_view_count": null,
            "_view_module": "@jupyter-widgets/base",
            "_view_module_version": "1.2.0",
            "_view_name": "LayoutView",
            "align_content": null,
            "align_items": null,
            "align_self": null,
            "border": null,
            "bottom": null,
            "display": null,
            "flex": null,
            "flex_flow": null,
            "grid_area": null,
            "grid_auto_columns": null,
            "grid_auto_flow": null,
            "grid_auto_rows": null,
            "grid_column": null,
            "grid_gap": null,
            "grid_row": null,
            "grid_template_areas": null,
            "grid_template_columns": null,
            "grid_template_rows": null,
            "height": null,
            "justify_content": null,
            "justify_items": null,
            "left": null,
            "margin": null,
            "max_height": null,
            "max_width": null,
            "min_height": null,
            "min_width": null,
            "object_fit": null,
            "object_position": null,
            "order": null,
            "overflow": null,
            "overflow_x": null,
            "overflow_y": null,
            "padding": null,
            "right": null,
            "top": null,
            "visibility": null,
            "width": null
          }
        },
        "95a3a1b8b32843f19ab7ad0b6b62b683": {
          "model_module": "@jupyter-widgets/controls",
          "model_name": "DescriptionStyleModel",
          "model_module_version": "1.5.0",
          "state": {
            "_model_module": "@jupyter-widgets/controls",
            "_model_module_version": "1.5.0",
            "_model_name": "DescriptionStyleModel",
            "_view_count": null,
            "_view_module": "@jupyter-widgets/base",
            "_view_module_version": "1.2.0",
            "_view_name": "StyleView",
            "description_width": ""
          }
        },
        "10448e87ef3d4dde898f230ff819a659": {
          "model_module": "@jupyter-widgets/base",
          "model_name": "LayoutModel",
          "model_module_version": "1.2.0",
          "state": {
            "_model_module": "@jupyter-widgets/base",
            "_model_module_version": "1.2.0",
            "_model_name": "LayoutModel",
            "_view_count": null,
            "_view_module": "@jupyter-widgets/base",
            "_view_module_version": "1.2.0",
            "_view_name": "LayoutView",
            "align_content": null,
            "align_items": null,
            "align_self": null,
            "border": null,
            "bottom": null,
            "display": null,
            "flex": null,
            "flex_flow": null,
            "grid_area": null,
            "grid_auto_columns": null,
            "grid_auto_flow": null,
            "grid_auto_rows": null,
            "grid_column": null,
            "grid_gap": null,
            "grid_row": null,
            "grid_template_areas": null,
            "grid_template_columns": null,
            "grid_template_rows": null,
            "height": null,
            "justify_content": null,
            "justify_items": null,
            "left": null,
            "margin": null,
            "max_height": null,
            "max_width": null,
            "min_height": null,
            "min_width": null,
            "object_fit": null,
            "object_position": null,
            "order": null,
            "overflow": null,
            "overflow_x": null,
            "overflow_y": null,
            "padding": null,
            "right": null,
            "top": null,
            "visibility": null,
            "width": null
          }
        },
        "8787200ae0ab42d2a280649406dccd3d": {
          "model_module": "@jupyter-widgets/controls",
          "model_name": "ProgressStyleModel",
          "model_module_version": "1.5.0",
          "state": {
            "_model_module": "@jupyter-widgets/controls",
            "_model_module_version": "1.5.0",
            "_model_name": "ProgressStyleModel",
            "_view_count": null,
            "_view_module": "@jupyter-widgets/base",
            "_view_module_version": "1.2.0",
            "_view_name": "StyleView",
            "bar_color": null,
            "description_width": ""
          }
        },
        "b0d1a10c9c944dbd8c0d7866efd1c588": {
          "model_module": "@jupyter-widgets/base",
          "model_name": "LayoutModel",
          "model_module_version": "1.2.0",
          "state": {
            "_model_module": "@jupyter-widgets/base",
            "_model_module_version": "1.2.0",
            "_model_name": "LayoutModel",
            "_view_count": null,
            "_view_module": "@jupyter-widgets/base",
            "_view_module_version": "1.2.0",
            "_view_name": "LayoutView",
            "align_content": null,
            "align_items": null,
            "align_self": null,
            "border": null,
            "bottom": null,
            "display": null,
            "flex": null,
            "flex_flow": null,
            "grid_area": null,
            "grid_auto_columns": null,
            "grid_auto_flow": null,
            "grid_auto_rows": null,
            "grid_column": null,
            "grid_gap": null,
            "grid_row": null,
            "grid_template_areas": null,
            "grid_template_columns": null,
            "grid_template_rows": null,
            "height": null,
            "justify_content": null,
            "justify_items": null,
            "left": null,
            "margin": null,
            "max_height": null,
            "max_width": null,
            "min_height": null,
            "min_width": null,
            "object_fit": null,
            "object_position": null,
            "order": null,
            "overflow": null,
            "overflow_x": null,
            "overflow_y": null,
            "padding": null,
            "right": null,
            "top": null,
            "visibility": null,
            "width": null
          }
        },
        "cc7b263869274af79be78e140481a476": {
          "model_module": "@jupyter-widgets/controls",
          "model_name": "DescriptionStyleModel",
          "model_module_version": "1.5.0",
          "state": {
            "_model_module": "@jupyter-widgets/controls",
            "_model_module_version": "1.5.0",
            "_model_name": "DescriptionStyleModel",
            "_view_count": null,
            "_view_module": "@jupyter-widgets/base",
            "_view_module_version": "1.2.0",
            "_view_name": "StyleView",
            "description_width": ""
          }
        }
      }
    }
  },
  "cells": [
    {
      "cell_type": "markdown",
      "metadata": {
        "id": "view-in-github",
        "colab_type": "text"
      },
      "source": [
        "<a href=\"https://colab.research.google.com/github/MLFlexer/nlp-course/blob/malthe/assignments/w4_bert_ben.ipynb\" target=\"_parent\"><img src=\"https://colab.research.google.com/assets/colab-badge.svg\" alt=\"Open In Colab\"/></a>"
      ]
    },
    {
      "cell_type": "markdown",
      "source": [
        "Made with the help of this guide: https://huggingface.co/docs/transformers/tasks/question_answering and lab 6"
      ],
      "metadata": {
        "id": "ZTpCe2R1L_yd"
      }
    },
    {
      "cell_type": "code",
      "source": [
        "!pip install update transformers\n",
        "!pip install datasets\n",
        "!pip install evaluate"
      ],
      "metadata": {
        "colab": {
          "base_uri": "https://localhost:8080/"
        },
        "id": "2mAF--cPLf5y",
        "outputId": "e7836240-0678-45c4-da92-a2e03df66b9e"
      },
      "execution_count": 1,
      "outputs": [
        {
          "output_type": "stream",
          "name": "stdout",
          "text": [
            "Requirement already satisfied: update in /usr/local/lib/python3.10/dist-packages (0.0.1)\n",
            "Requirement already satisfied: transformers in /usr/local/lib/python3.10/dist-packages (4.34.1)\n",
            "Requirement already satisfied: style==1.1.0 in /usr/local/lib/python3.10/dist-packages (from update) (1.1.0)\n",
            "Requirement already satisfied: filelock in /usr/local/lib/python3.10/dist-packages (from transformers) (3.12.4)\n",
            "Requirement already satisfied: huggingface-hub<1.0,>=0.16.4 in /usr/local/lib/python3.10/dist-packages (from transformers) (0.17.3)\n",
            "Requirement already satisfied: numpy>=1.17 in /usr/local/lib/python3.10/dist-packages (from transformers) (1.23.5)\n",
            "Requirement already satisfied: packaging>=20.0 in /usr/local/lib/python3.10/dist-packages (from transformers) (23.2)\n",
            "Requirement already satisfied: pyyaml>=5.1 in /usr/local/lib/python3.10/dist-packages (from transformers) (6.0.1)\n",
            "Requirement already satisfied: regex!=2019.12.17 in /usr/local/lib/python3.10/dist-packages (from transformers) (2023.6.3)\n",
            "Requirement already satisfied: requests in /usr/local/lib/python3.10/dist-packages (from transformers) (2.31.0)\n",
            "Requirement already satisfied: tokenizers<0.15,>=0.14 in /usr/local/lib/python3.10/dist-packages (from transformers) (0.14.1)\n",
            "Requirement already satisfied: safetensors>=0.3.1 in /usr/local/lib/python3.10/dist-packages (from transformers) (0.4.0)\n",
            "Requirement already satisfied: tqdm>=4.27 in /usr/local/lib/python3.10/dist-packages (from transformers) (4.66.1)\n",
            "Requirement already satisfied: fsspec in /usr/local/lib/python3.10/dist-packages (from huggingface-hub<1.0,>=0.16.4->transformers) (2023.6.0)\n",
            "Requirement already satisfied: typing-extensions>=3.7.4.3 in /usr/local/lib/python3.10/dist-packages (from huggingface-hub<1.0,>=0.16.4->transformers) (4.5.0)\n",
            "Requirement already satisfied: charset-normalizer<4,>=2 in /usr/local/lib/python3.10/dist-packages (from requests->transformers) (3.3.0)\n",
            "Requirement already satisfied: idna<4,>=2.5 in /usr/local/lib/python3.10/dist-packages (from requests->transformers) (3.4)\n",
            "Requirement already satisfied: urllib3<3,>=1.21.1 in /usr/local/lib/python3.10/dist-packages (from requests->transformers) (2.0.7)\n",
            "Requirement already satisfied: certifi>=2017.4.17 in /usr/local/lib/python3.10/dist-packages (from requests->transformers) (2023.7.22)\n",
            "Requirement already satisfied: datasets in /usr/local/lib/python3.10/dist-packages (2.14.6)\n",
            "Requirement already satisfied: numpy>=1.17 in /usr/local/lib/python3.10/dist-packages (from datasets) (1.23.5)\n",
            "Requirement already satisfied: pyarrow>=8.0.0 in /usr/local/lib/python3.10/dist-packages (from datasets) (9.0.0)\n",
            "Requirement already satisfied: dill<0.3.8,>=0.3.0 in /usr/local/lib/python3.10/dist-packages (from datasets) (0.3.7)\n",
            "Requirement already satisfied: pandas in /usr/local/lib/python3.10/dist-packages (from datasets) (1.5.3)\n",
            "Requirement already satisfied: requests>=2.19.0 in /usr/local/lib/python3.10/dist-packages (from datasets) (2.31.0)\n",
            "Requirement already satisfied: tqdm>=4.62.1 in /usr/local/lib/python3.10/dist-packages (from datasets) (4.66.1)\n",
            "Requirement already satisfied: xxhash in /usr/local/lib/python3.10/dist-packages (from datasets) (3.4.1)\n",
            "Requirement already satisfied: multiprocess in /usr/local/lib/python3.10/dist-packages (from datasets) (0.70.15)\n",
            "Requirement already satisfied: fsspec[http]<=2023.10.0,>=2023.1.0 in /usr/local/lib/python3.10/dist-packages (from datasets) (2023.6.0)\n",
            "Requirement already satisfied: aiohttp in /usr/local/lib/python3.10/dist-packages (from datasets) (3.8.6)\n",
            "Requirement already satisfied: huggingface-hub<1.0.0,>=0.14.0 in /usr/local/lib/python3.10/dist-packages (from datasets) (0.17.3)\n",
            "Requirement already satisfied: packaging in /usr/local/lib/python3.10/dist-packages (from datasets) (23.2)\n",
            "Requirement already satisfied: pyyaml>=5.1 in /usr/local/lib/python3.10/dist-packages (from datasets) (6.0.1)\n",
            "Requirement already satisfied: attrs>=17.3.0 in /usr/local/lib/python3.10/dist-packages (from aiohttp->datasets) (23.1.0)\n",
            "Requirement already satisfied: charset-normalizer<4.0,>=2.0 in /usr/local/lib/python3.10/dist-packages (from aiohttp->datasets) (3.3.0)\n",
            "Requirement already satisfied: multidict<7.0,>=4.5 in /usr/local/lib/python3.10/dist-packages (from aiohttp->datasets) (6.0.4)\n",
            "Requirement already satisfied: async-timeout<5.0,>=4.0.0a3 in /usr/local/lib/python3.10/dist-packages (from aiohttp->datasets) (4.0.3)\n",
            "Requirement already satisfied: yarl<2.0,>=1.0 in /usr/local/lib/python3.10/dist-packages (from aiohttp->datasets) (1.9.2)\n",
            "Requirement already satisfied: frozenlist>=1.1.1 in /usr/local/lib/python3.10/dist-packages (from aiohttp->datasets) (1.4.0)\n",
            "Requirement already satisfied: aiosignal>=1.1.2 in /usr/local/lib/python3.10/dist-packages (from aiohttp->datasets) (1.3.1)\n",
            "Requirement already satisfied: filelock in /usr/local/lib/python3.10/dist-packages (from huggingface-hub<1.0.0,>=0.14.0->datasets) (3.12.4)\n",
            "Requirement already satisfied: typing-extensions>=3.7.4.3 in /usr/local/lib/python3.10/dist-packages (from huggingface-hub<1.0.0,>=0.14.0->datasets) (4.5.0)\n",
            "Requirement already satisfied: idna<4,>=2.5 in /usr/local/lib/python3.10/dist-packages (from requests>=2.19.0->datasets) (3.4)\n",
            "Requirement already satisfied: urllib3<3,>=1.21.1 in /usr/local/lib/python3.10/dist-packages (from requests>=2.19.0->datasets) (2.0.7)\n",
            "Requirement already satisfied: certifi>=2017.4.17 in /usr/local/lib/python3.10/dist-packages (from requests>=2.19.0->datasets) (2023.7.22)\n",
            "Requirement already satisfied: python-dateutil>=2.8.1 in /usr/local/lib/python3.10/dist-packages (from pandas->datasets) (2.8.2)\n",
            "Requirement already satisfied: pytz>=2020.1 in /usr/local/lib/python3.10/dist-packages (from pandas->datasets) (2023.3.post1)\n",
            "Requirement already satisfied: six>=1.5 in /usr/local/lib/python3.10/dist-packages (from python-dateutil>=2.8.1->pandas->datasets) (1.16.0)\n",
            "Requirement already satisfied: evaluate in /usr/local/lib/python3.10/dist-packages (0.4.1)\n",
            "Requirement already satisfied: datasets>=2.0.0 in /usr/local/lib/python3.10/dist-packages (from evaluate) (2.14.6)\n",
            "Requirement already satisfied: numpy>=1.17 in /usr/local/lib/python3.10/dist-packages (from evaluate) (1.23.5)\n",
            "Requirement already satisfied: dill in /usr/local/lib/python3.10/dist-packages (from evaluate) (0.3.7)\n",
            "Requirement already satisfied: pandas in /usr/local/lib/python3.10/dist-packages (from evaluate) (1.5.3)\n",
            "Requirement already satisfied: requests>=2.19.0 in /usr/local/lib/python3.10/dist-packages (from evaluate) (2.31.0)\n",
            "Requirement already satisfied: tqdm>=4.62.1 in /usr/local/lib/python3.10/dist-packages (from evaluate) (4.66.1)\n",
            "Requirement already satisfied: xxhash in /usr/local/lib/python3.10/dist-packages (from evaluate) (3.4.1)\n",
            "Requirement already satisfied: multiprocess in /usr/local/lib/python3.10/dist-packages (from evaluate) (0.70.15)\n",
            "Requirement already satisfied: fsspec[http]>=2021.05.0 in /usr/local/lib/python3.10/dist-packages (from evaluate) (2023.6.0)\n",
            "Requirement already satisfied: huggingface-hub>=0.7.0 in /usr/local/lib/python3.10/dist-packages (from evaluate) (0.17.3)\n",
            "Requirement already satisfied: packaging in /usr/local/lib/python3.10/dist-packages (from evaluate) (23.2)\n",
            "Requirement already satisfied: responses<0.19 in /usr/local/lib/python3.10/dist-packages (from evaluate) (0.18.0)\n",
            "Requirement already satisfied: pyarrow>=8.0.0 in /usr/local/lib/python3.10/dist-packages (from datasets>=2.0.0->evaluate) (9.0.0)\n",
            "Requirement already satisfied: aiohttp in /usr/local/lib/python3.10/dist-packages (from datasets>=2.0.0->evaluate) (3.8.6)\n",
            "Requirement already satisfied: pyyaml>=5.1 in /usr/local/lib/python3.10/dist-packages (from datasets>=2.0.0->evaluate) (6.0.1)\n",
            "Requirement already satisfied: filelock in /usr/local/lib/python3.10/dist-packages (from huggingface-hub>=0.7.0->evaluate) (3.12.4)\n",
            "Requirement already satisfied: typing-extensions>=3.7.4.3 in /usr/local/lib/python3.10/dist-packages (from huggingface-hub>=0.7.0->evaluate) (4.5.0)\n",
            "Requirement already satisfied: charset-normalizer<4,>=2 in /usr/local/lib/python3.10/dist-packages (from requests>=2.19.0->evaluate) (3.3.0)\n",
            "Requirement already satisfied: idna<4,>=2.5 in /usr/local/lib/python3.10/dist-packages (from requests>=2.19.0->evaluate) (3.4)\n",
            "Requirement already satisfied: urllib3<3,>=1.21.1 in /usr/local/lib/python3.10/dist-packages (from requests>=2.19.0->evaluate) (2.0.7)\n",
            "Requirement already satisfied: certifi>=2017.4.17 in /usr/local/lib/python3.10/dist-packages (from requests>=2.19.0->evaluate) (2023.7.22)\n",
            "Requirement already satisfied: python-dateutil>=2.8.1 in /usr/local/lib/python3.10/dist-packages (from pandas->evaluate) (2.8.2)\n",
            "Requirement already satisfied: pytz>=2020.1 in /usr/local/lib/python3.10/dist-packages (from pandas->evaluate) (2023.3.post1)\n",
            "Requirement already satisfied: attrs>=17.3.0 in /usr/local/lib/python3.10/dist-packages (from aiohttp->datasets>=2.0.0->evaluate) (23.1.0)\n",
            "Requirement already satisfied: multidict<7.0,>=4.5 in /usr/local/lib/python3.10/dist-packages (from aiohttp->datasets>=2.0.0->evaluate) (6.0.4)\n",
            "Requirement already satisfied: async-timeout<5.0,>=4.0.0a3 in /usr/local/lib/python3.10/dist-packages (from aiohttp->datasets>=2.0.0->evaluate) (4.0.3)\n",
            "Requirement already satisfied: yarl<2.0,>=1.0 in /usr/local/lib/python3.10/dist-packages (from aiohttp->datasets>=2.0.0->evaluate) (1.9.2)\n",
            "Requirement already satisfied: frozenlist>=1.1.1 in /usr/local/lib/python3.10/dist-packages (from aiohttp->datasets>=2.0.0->evaluate) (1.4.0)\n",
            "Requirement already satisfied: aiosignal>=1.1.2 in /usr/local/lib/python3.10/dist-packages (from aiohttp->datasets>=2.0.0->evaluate) (1.3.1)\n",
            "Requirement already satisfied: six>=1.5 in /usr/local/lib/python3.10/dist-packages (from python-dateutil>=2.8.1->pandas->evaluate) (1.16.0)\n"
          ]
        }
      ]
    },
    {
      "cell_type": "code",
      "source": [
        "from datasets import load_dataset\n",
        "from datasets import load_metric\n",
        "from torch.utils.data import Dataset, DataLoader\n",
        "from transformers import AutoTokenizer\n",
        "from transformers import AutoModelForQuestionAnswering\n",
        "from transformers import AutoConfig\n",
        "from functools import partial\n",
        "import torch\n",
        "import random\n",
        "import numpy as np\n",
        "from tqdm import tqdm\n",
        "from transformers import AdamW\n",
        "from transformers import get_linear_schedule_with_warmup\n",
        "from torch.optim.lr_scheduler import LambdaLR\n",
        "from torch import nn\n",
        "from collections import defaultdict, OrderedDict\n",
        "# MODEL_NAME = 'xlm-roberta-base'\n",
        "MODEL_NAME = 'bert-base-multilingual-uncased'\n",
        "NUM_SUBSAMPLES = 4779\n",
        "#bengali: 4779\n",
        "#Arabic: 29598\n",
        "#Indonesian: 11394\n",
        "LANGUAGE = \"bengali\" # \"arabic\" \"indonesian\""
      ],
      "metadata": {
        "id": "c4d_FN4UqwhT"
      },
      "execution_count": 2,
      "outputs": []
    },
    {
      "cell_type": "code",
      "source": [
        "def enforce_reproducibility(seed=42):\n",
        "    # Sets seed manually for both CPU and CUDA\n",
        "    torch.manual_seed(seed)\n",
        "    torch.cuda.manual_seed_all(seed)\n",
        "    # For atomic operations there is currently\n",
        "    # no simple way to enforce determinism, as\n",
        "    # the order of parallel operations is not known.\n",
        "    # CUDNN\n",
        "    torch.backends.cudnn.deterministic = True\n",
        "    torch.backends.cudnn.benchmark = False\n",
        "    # System based\n",
        "    random.seed(seed)\n",
        "    np.random.seed(seed)\n",
        "\n",
        "device = torch.device(\"cpu\")\n",
        "if torch.cuda.is_available():\n",
        "  device = torch.device(\"cuda\")\n",
        "\n",
        "enforce_reproducibility()"
      ],
      "metadata": {
        "id": "kC8A3_ytq43o"
      },
      "execution_count": 3,
      "outputs": []
    },
    {
      "cell_type": "code",
      "execution_count": 4,
      "metadata": {
        "id": "XB3XXwrpLZLp"
      },
      "outputs": [],
      "source": [
        "from datasets import load_dataset\n",
        "\n",
        "dataset = load_dataset(\"copenlu/answerable_tydiqa\")\n",
        "\n",
        "filtered_dataset = dataset.filter(lambda entry: entry[\"language\"] in [LANGUAGE])#, \"arabic\", \"bengali\"])\n",
        "#filtered_dataset = filtered_dataset.filter(lambda entry: entry[\"annotations\"][\"answer_start\"][0] == -1)\n",
        "\n",
        "train_set = filtered_dataset[\"train\"]\n",
        "validation_set = filtered_dataset[\"validation\"]"
      ]
    },
    {
      "cell_type": "markdown",
      "source": [],
      "metadata": {
        "id": "Ee9oqmJSRwWT"
      }
    },
    {
      "cell_type": "code",
      "source": [
        "from datasets import Dataset, DatasetDict\n",
        "train_set_df = train_set.to_pandas()\n",
        "train_set_df['id'] = range(len(train_set_df))\n",
        "validation_set_df = validation_set.to_pandas()\n",
        "validation_set_df['id'] = range(len(validation_set_df))\n",
        "\n",
        "train_set = Dataset.from_pandas(train_set_df)\n",
        "validation_set = Dataset.from_pandas(validation_set_df)"
      ],
      "metadata": {
        "id": "Q2Hu9T0qh0IL"
      },
      "execution_count": 5,
      "outputs": []
    },
    {
      "cell_type": "code",
      "source": [
        "print(len(validation_set))\n",
        "train_set[2]"
      ],
      "metadata": {
        "colab": {
          "base_uri": "https://localhost:8080/"
        },
        "id": "zeTDJL35LvwO",
        "outputId": "749262f2-79dc-4f22-a274-5334794b9898"
      },
      "execution_count": 6,
      "outputs": [
        {
          "output_type": "stream",
          "name": "stdout",
          "text": [
            "1191\n"
          ]
        },
        {
          "output_type": "execute_result",
          "data": {
            "text/plain": [
              "{'question_text': 'Kapan PBB mulai terbentuk ?',\n",
              " 'document_title': 'Perserikatan Bangsa-Bangsa',\n",
              " 'language': 'indonesian',\n",
              " 'annotations': {'answer_start': [360], 'answer_text': ['24 Oktober 1945']},\n",
              " 'document_plaintext': 'Sebagai tindak lanjut Atlantic Charter tersebut, pada tanggal 25 April 1945, Konferensi PBB tentang Organisasi Internasional diadakan di San Francisco, dengan dihadiri oleh 50 pemerintah negara, dan sejumlah organisasi non-pemerintah yang terlibat dalam penyusunan Piagam Perserikatan Bangsa-Bangsa (Declaration of the United Nations). PBB resmi dibentuk pada 24 Oktober 1945 atas ratifikasi Piagam oleh lima anggota tetap Dewan Keamanan -Perancis, Republik Tiongkok, Uni Soviet, Inggris dan Amerika Serikat- dan mayoritas dari 46 negara anggota lainnya.',\n",
              " 'document_url': 'https://id.wikipedia.org/wiki/Perserikatan%20Bangsa-Bangsa',\n",
              " 'id': 2}"
            ]
          },
          "metadata": {},
          "execution_count": 6
        }
      ]
    },
    {
      "cell_type": "code",
      "source": [
        "tk = AutoTokenizer.from_pretrained(MODEL_NAME)"
      ],
      "metadata": {
        "id": "PXY8QobAruAB"
      },
      "execution_count": 7,
      "outputs": []
    },
    {
      "cell_type": "code",
      "source": [
        "def get_train_features(tk, samples):\n",
        "  '''\n",
        "  Tokenizes all of the text in the given samples, splittling inputs that are too long for our model\n",
        "  across multiple features. Finds the token offsets of the answers, which serve as the labels for\n",
        "  our inputs.\n",
        "  '''\n",
        "  batch = tk.batch_encode_plus(\n",
        "        [[q,c] for q,c in zip(samples['question_text'], samples['document_plaintext'])],\n",
        "        padding='max_length',\n",
        "        truncation='only_second',\n",
        "        stride=128,\n",
        "        return_overflowing_tokens=True,\n",
        "        return_offsets_mapping=True\n",
        "    )\n",
        "\n",
        "  # Get a list which maps the input features index to their original index in the\n",
        "  # samples list (for split inputs). E.g. if our batch size is 4 and the second sample\n",
        "  # is split into 3 inputs because it is very large, sample_mapping would look like\n",
        "  # [0, 1, 1, 1, 2, 3]\n",
        "  sample_mapping = batch.pop('overflow_to_sample_mapping')\n",
        "  # Get all of the character offsets for each token\n",
        "  offset_mapping = batch.pop('offset_mapping')\n",
        "\n",
        "  # Store the start and end tokens\n",
        "  batch['start_tokens'] = []\n",
        "  batch['end_tokens'] = []\n",
        "\n",
        "  # Iterate through all of the offsets\n",
        "  for i, offsets in enumerate(offset_mapping):\n",
        "    # Get the right sample by mapping it to its original index\n",
        "    sample_idx = sample_mapping[i]\n",
        "    # Get the sequence IDs to know where context starts so we can ignore question tokens\n",
        "    sequence_ids = batch.sequence_ids(i)\n",
        "\n",
        "    # Get the start and end character positions of the answer\n",
        "    ans = samples['annotations'][sample_idx]\n",
        "    start_char = ans['answer_start'][0]\n",
        "    end_char = start_char + len(ans['answer_text'][0])\n",
        "    # while end_char > 0 and (end_char >= len(samples['context'][sample_idx]) or samples['context'][sample_idx][end_char] == ' '):\n",
        "    #   end_char -= 1\n",
        "\n",
        "    # Start from the first token in the context, which can be found by going to the\n",
        "    # first token where sequence_ids is 1\n",
        "    start_token = 0\n",
        "    while sequence_ids[start_token] != 1:\n",
        "      start_token += 1\n",
        "\n",
        "    end_token = len(offsets) - 1\n",
        "    while sequence_ids[end_token] != 1:\n",
        "      end_token -= 1\n",
        "\n",
        "    # By default set it to the CLS token if the answer isn't in this input\n",
        "    if start_char < offsets[start_token][0] or end_char > offsets[end_token][1]:\n",
        "      start_token = 0\n",
        "      end_token = 0\n",
        "    # Otherwise find the correct token indices\n",
        "    else:\n",
        "      # Advance the start token index until we have passed the start character index\n",
        "      while start_token < len(offsets) and offsets[start_token][0] <= start_char:\n",
        "        start_token += 1\n",
        "      start_token -= 1\n",
        "\n",
        "      # Decrease the end token index until we have passed the end character index\n",
        "      while end_token >= 0 and offsets[end_token][1] >= end_char:\n",
        "        end_token -= 1\n",
        "      end_token += 1\n",
        "\n",
        "    batch['start_tokens'].append(start_token)\n",
        "    batch['end_tokens'].append(end_token)\n",
        "\n",
        "  #batch['start_tokens'] = np.array(batch['start_tokens'])\n",
        "  #batch['end_tokens'] = np.array(batch['end_tokens'])\n",
        "\n",
        "  return batch\n",
        "\n",
        "def collate_fn(inputs):\n",
        "  '''\n",
        "  Defines how to combine different samples in a batch\n",
        "  '''\n",
        "  input_ids = torch.tensor([i['input_ids'] for i in inputs])\n",
        "  attention_mask = torch.tensor([i['attention_mask'] for i in inputs])\n",
        "  start_tokens = torch.tensor([i['start_tokens'] for i in inputs])\n",
        "  end_tokens = torch.tensor([i['end_tokens'] for i in inputs])\n",
        "\n",
        "  # Truncate to max length\n",
        "  max_len = max(attention_mask.sum(-1))\n",
        "  input_ids = input_ids[:,:max_len]\n",
        "  attention_mask = attention_mask[:,:max_len]\n",
        "\n",
        "  return {'input_ids': input_ids, 'attention_mask': attention_mask, 'start_tokens': start_tokens, 'end_tokens': end_tokens}"
      ],
      "metadata": {
        "id": "lO4rSfT3saW4"
      },
      "execution_count": 8,
      "outputs": []
    },
    {
      "cell_type": "code",
      "source": [
        "tokenized_dataset = train_set.map(partial(get_train_features, tk), batched=True, remove_columns=train_set.column_names)"
      ],
      "metadata": {
        "id": "8dBau9r7seZU",
        "outputId": "45994b4f-0a79-4395-f152-1c2e29f7f137",
        "colab": {
          "base_uri": "https://localhost:8080/",
          "height": 49,
          "referenced_widgets": [
            "26d4aa7cf7284d44beccaffc11cb051c",
            "67897069762c40658ced65a742355869",
            "13ecca4ce65b48fb9288073930d0fd45",
            "2fc457ef6897481482750337181d8a98",
            "82553d004cad48e69feefaace5bd5944",
            "1a994b43feab49b29bef35159151c868",
            "ff3a59810f56463ea86f075032454ce8",
            "8d9b7c9dad2542d1be687f4bb4143ad6",
            "f070dd90187d40b182bb7d3260acbe78",
            "498e82b151cc40848c8ae1f528bdb4db",
            "82c025e832744f87acfb987639e0e875"
          ]
        }
      },
      "execution_count": 9,
      "outputs": [
        {
          "output_type": "display_data",
          "data": {
            "text/plain": [
              "Map:   0%|          | 0/11394 [00:00<?, ? examples/s]"
            ],
            "application/vnd.jupyter.widget-view+json": {
              "version_major": 2,
              "version_minor": 0,
              "model_id": "26d4aa7cf7284d44beccaffc11cb051c"
            }
          },
          "metadata": {}
        }
      ]
    },
    {
      "cell_type": "code",
      "source": [
        "tokenized_dataset"
      ],
      "metadata": {
        "id": "w66oxEb9tBdt",
        "outputId": "5d3d90cb-52aa-4fb2-a540-fddb56a24110",
        "colab": {
          "base_uri": "https://localhost:8080/"
        }
      },
      "execution_count": 10,
      "outputs": [
        {
          "output_type": "execute_result",
          "data": {
            "text/plain": [
              "Dataset({\n",
              "    features: ['input_ids', 'token_type_ids', 'attention_mask', 'start_tokens', 'end_tokens'],\n",
              "    num_rows: 11594\n",
              "})"
            ]
          },
          "metadata": {},
          "execution_count": 10
        }
      ]
    },
    {
      "cell_type": "code",
      "source": [
        "samples = random.sample(list(range(len(tokenized_dataset))), NUM_SUBSAMPLES)\n",
        "tokenized_dataset = tokenized_dataset.select(samples)\n",
        "train_dl = DataLoader(tokenized_dataset, collate_fn=collate_fn, shuffle=True, batch_size=4)"
      ],
      "metadata": {
        "id": "ExRWEMevtE8z"
      },
      "execution_count": 11,
      "outputs": []
    },
    {
      "cell_type": "code",
      "source": [
        "import gc"
      ],
      "metadata": {
        "id": "Fuszid5REYXG"
      },
      "execution_count": 12,
      "outputs": []
    },
    {
      "cell_type": "code",
      "source": [
        "def train(\n",
        "    model: nn.Module,\n",
        "    train_dl: DataLoader,\n",
        "    optimizer: torch.optim.Optimizer,\n",
        "    schedule: LambdaLR,\n",
        "    n_epochs: int,\n",
        "    device: torch.device\n",
        "):\n",
        "  \"\"\"\n",
        "  The main training loop which will optimize a given model on a given dataset\n",
        "  :param model: The model being optimized\n",
        "  :param train_dl: The training dataset\n",
        "  :param optimizer: The optimizer used to update the model parameters\n",
        "  :param n_epochs: Number of epochs to train for\n",
        "  :param device: The device to train on\n",
        "  \"\"\"\n",
        "\n",
        "  # Keep track of the loss and best accuracy\n",
        "  losses = []\n",
        "  best_acc = 0.0\n",
        "  pcounter = 0\n",
        "\n",
        "  # Iterate through epochs\n",
        "  for ep in range(n_epochs):\n",
        "\n",
        "    loss_epoch = []\n",
        "\n",
        "    #Iterate through each batch in the dataloader\n",
        "    for batch in tqdm(train_dl):\n",
        "      # VERY IMPORTANT: Make sure the model is in training mode, which turns on\n",
        "      # things like dropout and layer normalization\n",
        "      model.train()\n",
        "\n",
        "      # VERY IMPORTANT: zero out all of the gradients on each iteration -- PyTorch\n",
        "      # keeps track of these dynamically in its computation graph so you need to explicitly\n",
        "      # zero them out\n",
        "      optimizer.zero_grad()\n",
        "\n",
        "      # Place each tensor on the GPU\n",
        "      batch = {b: batch[b].to(device) for b in batch}\n",
        "\n",
        "      # Pass the inputs through the model, get the current loss and logits\n",
        "      outputs = model(\n",
        "          input_ids=batch['input_ids'],\n",
        "          attention_mask=batch['attention_mask'],\n",
        "          start_positions=batch['start_tokens'],\n",
        "          end_positions=batch['end_tokens']\n",
        "      )\n",
        "      loss = outputs['loss']\n",
        "      losses.append(loss.item())\n",
        "      loss_epoch.append(loss.item())\n",
        "\n",
        "      # Calculate all of the gradients and weight updates for the model\n",
        "      loss.backward()\n",
        "\n",
        "      # Optional: clip gradients\n",
        "      #torch.nn.utils.clip_grad_norm_(model.parameters(), 1.0)\n",
        "\n",
        "      # Finally, update the weights of the model and advance the LR schedule\n",
        "      optimizer.step()\n",
        "      scheduler.step()\n",
        "      gc.collect()\n",
        "  return losses"
      ],
      "metadata": {
        "id": "L1t6iqEbtc9D"
      },
      "execution_count": 13,
      "outputs": []
    },
    {
      "cell_type": "code",
      "source": [
        "model = AutoModelForQuestionAnswering.from_pretrained(MODEL_NAME).to(device)"
      ],
      "metadata": {
        "id": "a9oBUnR-tezT",
        "outputId": "568b0c18-e623-4221-9e29-715ae02969e4",
        "colab": {
          "base_uri": "https://localhost:8080/"
        }
      },
      "execution_count": 14,
      "outputs": [
        {
          "output_type": "stream",
          "name": "stderr",
          "text": [
            "Some weights of BertForQuestionAnswering were not initialized from the model checkpoint at bert-base-multilingual-uncased and are newly initialized: ['qa_outputs.weight', 'qa_outputs.bias']\n",
            "You should probably TRAIN this model on a down-stream task to be able to use it for predictions and inference.\n"
          ]
        }
      ]
    },
    {
      "cell_type": "code",
      "source": [
        "# Create the optimizer\n",
        "lr=2e-5\n",
        "n_epochs = 5\n",
        "weight_decay = 0.01\n",
        "warmup_steps = 200\n",
        "\n",
        "no_decay = ['bias', 'LayerNorm.bias', 'LayerNorm.weight']\n",
        "optimizer_grouped_parameters = [\n",
        "    {'params': [p for n, p in model.named_parameters() if not any(nd in n for nd in no_decay)],\n",
        "      'weight_decay': weight_decay},\n",
        "    {'params': [p for n, p in model.named_parameters() if any(nd in n for nd in no_decay)], 'weight_decay': 0.0}\n",
        "]\n",
        "# optimizer = Adam(optimizer_grouped_parameters, lr=1e-3)\n",
        "# scheduler = None\n",
        "optimizer = AdamW(optimizer_grouped_parameters, lr=lr)\n",
        "scheduler = get_linear_schedule_with_warmup(\n",
        "    optimizer,\n",
        "    warmup_steps,\n",
        "    n_epochs * len(train_dl)\n",
        ")"
      ],
      "metadata": {
        "id": "JkQShWSQth50",
        "outputId": "bdb49912-8bbe-405d-92f3-465174210281",
        "colab": {
          "base_uri": "https://localhost:8080/"
        }
      },
      "execution_count": 15,
      "outputs": [
        {
          "output_type": "stream",
          "name": "stderr",
          "text": [
            "/usr/local/lib/python3.10/dist-packages/transformers/optimization.py:411: FutureWarning: This implementation of AdamW is deprecated and will be removed in a future version. Use the PyTorch implementation torch.optim.AdamW instead, or set `no_deprecation_warning=True` to disable this warning\n",
            "  warnings.warn(\n"
          ]
        }
      ]
    },
    {
      "cell_type": "code",
      "source": [
        "losses = train(\n",
        "    model,\n",
        "    train_dl,\n",
        "    optimizer,\n",
        "    scheduler,\n",
        "    n_epochs,\n",
        "    device\n",
        ")"
      ],
      "metadata": {
        "id": "aP17eWFRtk2x",
        "outputId": "329b2b05-2196-4bf7-8e55-923799635af8",
        "colab": {
          "base_uri": "https://localhost:8080/"
        }
      },
      "execution_count": 16,
      "outputs": [
        {
          "output_type": "stream",
          "name": "stderr",
          "text": [
            "100%|██████████| 100/100 [00:40<00:00,  2.44it/s]\n",
            "100%|██████████| 100/100 [00:40<00:00,  2.45it/s]\n"
          ]
        }
      ]
    },
    {
      "cell_type": "code",
      "source": [
        "def get_validation_features(tk, samples):\n",
        "  # First, tokenize the text. We get the offsets and return overflowing sequences in\n",
        "  # order to break up long sequences into multiple inputs. The offsets will help us\n",
        "  # determine the original answer text\n",
        "  batch = tk.batch_encode_plus(\n",
        "        [[q,c] for q,c in zip(samples['question_text'], samples['document_plaintext'])],\n",
        "        padding='max_length',\n",
        "        truncation='only_second',\n",
        "        stride=128,\n",
        "        return_overflowing_tokens=True,\n",
        "        return_offsets_mapping=True\n",
        "    )\n",
        "\n",
        "  # We'll store the ID of the samples to calculate squad score\n",
        "  batch['example_id'] = []\n",
        "  # The overflow sample map tells us which input each sample corresponds to\n",
        "  sample_map = batch.pop('overflow_to_sample_mapping')\n",
        "\n",
        "  for i in range(len(batch['input_ids'])):\n",
        "    # The sample index tells us which of the values in \"samples\" these features belong to\n",
        "    sample_idx = sample_map[i]\n",
        "    sequence_ids = batch.sequence_ids(i)\n",
        "\n",
        "    # Add the ID to map these features back to the correct sample\n",
        "    batch['example_id'].append(samples['id'][sample_idx])\n",
        "\n",
        "    #Set offsets for non-context words to be None for ease of processing\n",
        "    batch['offset_mapping'][i] = [o if sequence_ids[k] == 1 else None for k,o in enumerate(batch['offset_mapping'][i])]\n",
        "\n",
        "  return batch\n",
        "\n",
        "def val_collate_fn(inputs):\n",
        "  input_ids = torch.tensor([i['input_ids'] for i in inputs])\n",
        "  attention_mask = torch.tensor([i['attention_mask'] for i in inputs])\n",
        "\n",
        "  # Truncate to max length\n",
        "  max_len = max(attention_mask.sum(-1))\n",
        "  input_ids = input_ids[:,:max_len]\n",
        "  attention_mask = attention_mask[:,:max_len]\n",
        "\n",
        "  return {'input_ids': input_ids, 'attention_mask': attention_mask}"
      ],
      "metadata": {
        "id": "Dz4_lMebtpbX"
      },
      "execution_count": 17,
      "outputs": []
    },
    {
      "cell_type": "code",
      "source": [
        "validation_dataset = validation_set.map(partial(get_validation_features, tk), batched=True, remove_columns=validation_set.column_names)"
      ],
      "metadata": {
        "id": "1ywVmDAstrPx",
        "outputId": "7cb292fc-7fef-4f4e-fc58-b5831af0add8",
        "colab": {
          "base_uri": "https://localhost:8080/",
          "height": 49,
          "referenced_widgets": [
            "ff373df92b834036ad963a91955bbd1b",
            "955f869efde2433188550c262be29fa6",
            "217e97a5a69c41f8be85c6123affeb03",
            "ed08cd57502444c9abb8d49259d2f18b",
            "8d10165cde2942d1ba9a2c512d1aad14",
            "7b824e331c524d8a89d0b8ac67bc78fa",
            "95a3a1b8b32843f19ab7ad0b6b62b683",
            "10448e87ef3d4dde898f230ff819a659",
            "8787200ae0ab42d2a280649406dccd3d",
            "b0d1a10c9c944dbd8c0d7866efd1c588",
            "cc7b263869274af79be78e140481a476"
          ]
        }
      },
      "execution_count": 18,
      "outputs": [
        {
          "output_type": "display_data",
          "data": {
            "text/plain": [
              "Map:   0%|          | 0/1191 [00:00<?, ? examples/s]"
            ],
            "application/vnd.jupyter.widget-view+json": {
              "version_major": 2,
              "version_minor": 0,
              "model_id": "ff373df92b834036ad963a91955bbd1b"
            }
          },
          "metadata": {}
        }
      ]
    },
    {
      "cell_type": "code",
      "source": [
        "def predict(model: nn.Module, valid_dl: DataLoader):\n",
        "  \"\"\"\n",
        "  Evaluates the model on the given dataset\n",
        "  :param model: The model under evaluation\n",
        "  :param valid_dl: A `DataLoader` reading validation data\n",
        "  :return: The accuracy of the model on the dataset\n",
        "  \"\"\"\n",
        "  # VERY IMPORTANT: Put your model in \"eval\" mode -- this disables things like\n",
        "  # layer normalization and dropout\n",
        "  model.eval()\n",
        "  start_logits_all = []\n",
        "  end_logits_all = []\n",
        "\n",
        "  # ALSO IMPORTANT: Don't accumulate gradients during this process\n",
        "  with torch.no_grad():\n",
        "    for batch in tqdm(valid_dl, desc='Evaluation'):\n",
        "      batch = {b: batch[b].to(device) for b in batch}\n",
        "\n",
        "      # Pass the inputs through the model, get the current loss and logits\n",
        "      outputs = model(\n",
        "          input_ids=batch['input_ids'],\n",
        "          attention_mask=batch['attention_mask']\n",
        "      )\n",
        "      # Store the \"start\" class logits and \"end\" class logits for every token in the input\n",
        "      start_logits_all.extend(list(outputs['start_logits'].detach().cpu().numpy()))\n",
        "      end_logits_all.extend(list(outputs['end_logits'].detach().cpu().numpy()))\n",
        "\n",
        "\n",
        "    return start_logits_all,end_logits_all\n",
        "\n",
        "def post_process_predictions(examples, dataset, logits, tokenizer, num_possible_answers = 20, max_answer_length = 30):\n",
        "  all_start_logits, all_end_logits = logits\n",
        "  # Build a map from example to its corresponding features. This will allow us to index from\n",
        "  # sample ID to all of the features for that sample (in case they were split up due to long input)\n",
        "  example_id_to_index = {k: i for i, k in enumerate(examples[\"id\"])}\n",
        "  features_per_example = defaultdict(list)\n",
        "  for i, feature in enumerate(dataset):\n",
        "      features_per_example[example_id_to_index[feature[\"example_id\"]]].append(i)\n",
        "\n",
        "  # Create somewhere to store our predictions\n",
        "  predictions = OrderedDict()\n",
        "\n",
        "  # Iterate through each sample in the dataset\n",
        "  for j, sample in enumerate(tqdm(examples)):\n",
        "\n",
        "    # Get the feature indices (all of the features split across the batch)\n",
        "    feature_indices = features_per_example[j]\n",
        "    # Get the original context which predumably has the answer text\n",
        "    context = sample['document_plaintext']\n",
        "\n",
        "    preds = []\n",
        "\n",
        "    min_score_threshold = None\n",
        "\n",
        "    # Iterate through all of the features\n",
        "    for ft_idx in feature_indices:\n",
        "\n",
        "      # Get the start and end answer logits for this input\n",
        "      start_logits = all_start_logits[ft_idx]\n",
        "      end_logits = all_end_logits[ft_idx]\n",
        "\n",
        "      # Get the offsets to map token indices to character indices\n",
        "      offset_mapping = dataset[ft_idx]['offset_mapping']\n",
        "\n",
        "\n",
        "      # Update minimum null prediction.\n",
        "      cls_index = dataset[ft_idx][\"input_ids\"].index(tokenizer.cls_token_id)\n",
        "      feature_min_score_threshold = start_logits[cls_index] + end_logits[cls_index]\n",
        "      if min_score_threshold is None or min_score_threshold < feature_min_score_threshold:\n",
        "          min_score_threshold = feature_min_score_threshold\n",
        "\n",
        "      # Sort the logits and take the top N\n",
        "      start_indices = np.argsort(start_logits)[::-1][:num_possible_answers]\n",
        "      end_indices = np.argsort(end_logits)[::-1][:num_possible_answers]\n",
        "\n",
        "      # Iterate through start and end indices\n",
        "      for start_index in start_indices:\n",
        "        for end_index in end_indices:\n",
        "\n",
        "          # Ignore this combination if either the indices are not in the context\n",
        "          if start_index >= len(offset_mapping) or end_index >= len(offset_mapping) or offset_mapping[start_index] is None or offset_mapping[end_index] is None:\n",
        "            continue\n",
        "\n",
        "          # Also ignore if the start index is greater than the end index of the number of tokens\n",
        "          # is greater than some specified threshold\n",
        "          if start_index > end_index or end_index - start_index + 1 > max_answer_length:\n",
        "            continue\n",
        "\n",
        "          ans_text = context[offset_mapping[start_index][0]:offset_mapping[end_index][1]]\n",
        "          preds.append({\n",
        "              'score': start_logits[start_index] + end_logits[end_index],\n",
        "              'text': ans_text\n",
        "          })\n",
        "\n",
        "    if len(preds) > 0:\n",
        "      # Sort by score to get the top answer\n",
        "      best_answer = sorted(preds, key=lambda x: x['score'], reverse=True)[0]\n",
        "    else:\n",
        "      best_answer = {'score': 0.0, 'text': \"\"}\n",
        "\n",
        "    # if the best answer is below the threshold for lowest score, give it the empty string\n",
        "\n",
        "    answer = best_answer[\"text\"] if best_answer[\"score\"] > min_score_threshold else \"\"\n",
        "    predictions[sample['id']] = answer\n",
        "  return predictions"
      ],
      "metadata": {
        "id": "MnBTW-pVuC6w"
      },
      "execution_count": 19,
      "outputs": []
    },
    {
      "cell_type": "code",
      "source": [
        "val_dl = DataLoader(validation_dataset, collate_fn=val_collate_fn, batch_size=32)\n",
        "logits = predict(model, val_dl)"
      ],
      "metadata": {
        "id": "48-vkpvnuJ1q",
        "outputId": "9aab5790-7fb2-45da-d612-e7d06ebb893d",
        "colab": {
          "base_uri": "https://localhost:8080/"
        }
      },
      "execution_count": 20,
      "outputs": [
        {
          "output_type": "stream",
          "name": "stderr",
          "text": [
            "Evaluation: 100%|██████████| 38/38 [00:32<00:00,  1.18it/s]\n"
          ]
        }
      ]
    },
    {
      "cell_type": "code",
      "source": [
        "validation_dataset"
      ],
      "metadata": {
        "colab": {
          "base_uri": "https://localhost:8080/"
        },
        "id": "GnDrQ9zB1vt_",
        "outputId": "b425f343-75a7-467c-87ee-014bb1f851ac"
      },
      "execution_count": 21,
      "outputs": [
        {
          "output_type": "execute_result",
          "data": {
            "text/plain": [
              "Dataset({\n",
              "    features: ['input_ids', 'token_type_ids', 'attention_mask', 'offset_mapping', 'example_id'],\n",
              "    num_rows: 1210\n",
              "})"
            ]
          },
          "metadata": {},
          "execution_count": 21
        }
      ]
    },
    {
      "cell_type": "code",
      "source": [
        "predictions = post_process_predictions(validation_set, validation_dataset, logits, tk)\n",
        "formatted_predictions = [{'id': k, 'prediction_text': v} for k,v in predictions.items()]\n",
        "gold = [{'id': example['id'], 'answers': example['annotations'][\"answer_text\"][0]} for example in validation_set]"
      ],
      "metadata": {
        "id": "lTy-WKaxuLKN",
        "outputId": "aab51fb7-4a11-4796-c82b-391245d928a9",
        "colab": {
          "base_uri": "https://localhost:8080/"
        }
      },
      "execution_count": 22,
      "outputs": [
        {
          "output_type": "stream",
          "name": "stderr",
          "text": [
            "100%|██████████| 1191/1191 [00:06<00:00, 179.98it/s]\n"
          ]
        }
      ]
    },
    {
      "cell_type": "code",
      "source": [
        "\"\"\" Official evaluation script for v1.1 of the SQuAD dataset. \"\"\"\n",
        "from __future__ import print_function\n",
        "from collections import Counter\n",
        "import string\n",
        "import re\n",
        "import argparse\n",
        "import json\n",
        "import sys\n",
        "\n",
        "\n",
        "def normalize_answer(s):\n",
        "    \"\"\"Lower text and remove punctuation, articles and extra whitespace.\"\"\"\n",
        "    def remove_articles(text):\n",
        "        return re.sub(r'\\b(a|an|the)\\b', ' ', text)\n",
        "\n",
        "    def white_space_fix(text):\n",
        "        return ' '.join(text.split())\n",
        "\n",
        "    def remove_punc(text):\n",
        "        exclude = set(string.punctuation)\n",
        "        return ''.join(ch for ch in text if ch not in exclude)\n",
        "\n",
        "    def lower(text):\n",
        "        return text.lower()\n",
        "\n",
        "    return white_space_fix(remove_articles(remove_punc(lower(s))))\n",
        "\n",
        "\n",
        "def f1_score(prediction, ground_truth):\n",
        "    prediction_tokens = normalize_answer(prediction).split()\n",
        "    ground_truth_tokens = normalize_answer(ground_truth).split()\n",
        "    if len(prediction_tokens) == 0 and len(ground_truth_tokens) == 0:\n",
        "      return 1\n",
        "    common = Counter(prediction_tokens) & Counter(ground_truth_tokens)\n",
        "    num_same = sum(common.values())\n",
        "    if num_same == 0:\n",
        "        return 0\n",
        "    precision = 1.0 * num_same / len(prediction_tokens)\n",
        "    recall = 1.0 * num_same / len(ground_truth_tokens)\n",
        "    f1 = (2 * precision * recall) / (precision + recall)\n",
        "    return f1\n",
        "\n",
        "\n",
        "def exact_match_score(prediction, ground_truth):\n",
        "    #print(prediction)\n",
        "    #print(ground_truth)\n",
        "    return (normalize_answer(prediction) == normalize_answer(ground_truth))\n",
        "\n",
        "\n",
        "def metric_max_over_ground_truths(metric_fn, prediction, ground_truths):\n",
        "    #print(metric_fn)\n",
        "    #print(prediction)\n",
        "    #print(ground_truths)\n",
        "    scores_for_ground_truths = []\n",
        "    for ground_truth in ground_truths:\n",
        "        score = metric_fn(prediction, ground_truth)\n",
        "        scores_for_ground_truths.append(score)\n",
        "    #if len(scores_for_ground_truths) == 0:\n",
        "    #  if len(prediction) == 0:\n",
        "    #    return 1 # FIX: skal ændres, så at hvis der ikke er noget svar og prediction også siger det, så skal den have god score\n",
        "     # else:\n",
        "     #   return 0\n",
        "    return max(scores_for_ground_truths)\n",
        "\n",
        "\n",
        "def evaluate_squad(dataset, predictions):\n",
        "    f1 = exact_match = total = 0\n",
        "    for article in dataset:\n",
        "        print(article)\n",
        "        for paragraph in article['paragraphs']:\n",
        "            for qa in paragraph['qas']:\n",
        "                #print(qa)\n",
        "                #print(predictions[qa['id']])\n",
        "                total += 1\n",
        "                if qa['id'] not in predictions:\n",
        "                    message = 'Unanswered question ' + qa['id'] + \\\n",
        "                              ' will receive score 0.'\n",
        "                    print(message, file=sys.stderr)\n",
        "                    continue\n",
        "                ground_truths = list(map(lambda x: x['text'], qa['answers']))\n",
        "                prediction = predictions[qa['id']]\n",
        "                exact_match += metric_max_over_ground_truths(\n",
        "                    exact_match_score, prediction, ground_truths)\n",
        "                f1 += metric_max_over_ground_truths(\n",
        "                    f1_score, prediction, ground_truths)\n",
        "\n",
        "    exact_match = 100.0 * exact_match / total\n",
        "    f1 = 100.0 * f1 / total\n",
        "\n",
        "    return {'exact_match': exact_match, 'f1': f1}\n",
        "\n",
        "def compute_squad(predictions, references):\n",
        "  pred_dict = {prediction[\"id\"]: prediction[\"prediction_text\"] for prediction in predictions}\n",
        "  dataset = [\n",
        "      {\n",
        "          \"paragraphs\": [\n",
        "              {\n",
        "                  \"qas\": [\n",
        "                      {\n",
        "                          \"answers\": [{\"text\": ref[\"answers\"]} ],\n",
        "                          \"id\": ref[\"id\"],\n",
        "                      }\n",
        "                      for ref in references\n",
        "                  ]\n",
        "              }\n",
        "          ]\n",
        "      }\n",
        "  ]\n",
        "  score = evaluate_squad(dataset=dataset, predictions=pred_dict)\n",
        "  return score"
      ],
      "metadata": {
        "id": "ko5CJBuYygA-"
      },
      "execution_count": 23,
      "outputs": []
    },
    {
      "cell_type": "code",
      "source": [
        "compute_squad(references=gold, predictions=formatted_predictions)"
      ],
      "metadata": {
        "id": "h99TMCPDuj6Q",
        "outputId": "8fdbf5f0-0e7d-4360-84d5-9e4bf86de8ba",
        "colab": {
          "base_uri": "https://localhost:8080/"
        }
      },
      "execution_count": 24,
      "outputs": [
        {
          "output_type": "stream",
          "name": "stdout",
          "text": [
            "{'paragraphs': [{'qas': [{'answers': [{'text': 'orang-orang Viking'}], 'id': 0}, {'answers': [{'text': 'provinsi Sulawesi Tengah, Indonesia'}], 'id': 1}, {'answers': [{'text': 'Frederick Winslow Taylor'}], 'id': 2}, {'answers': [{'text': '15 Desember 1861'}], 'id': 3}, {'answers': [{'text': '179,7 juta km²'}], 'id': 4}, {'answers': [{'text': 'seniman-penghibur (entertainer) tradisional Jepang'}], 'id': 5}, {'answers': [{'text': '2000-an'}], 'id': 6}, {'answers': [{'text': 'Detroit, Michigan, Amerika Serikat'}], 'id': 7}, {'answers': [{'text': '32,58 km²'}], 'id': 8}, {'answers': [{'text': 'Hiroshi Takahashi'}], 'id': 9}, {'answers': [{'text': 'Sena'}], 'id': 10}, {'answers': [{'text': 'Tadashi Maeda, Tomegoro Yoshizumi, S. Nishijima, S. Miyoshi, Mohammad Hatta, Soekarno, dan Achmad Soebardjo'}], 'id': 11}, {'answers': [{'text': 'monarki konstitusional yang di dalamnya terdapat kuasa dari seorang Kaisar yang masih dibatasi dan hanya diturunkan terutama ketika melakukan tugas resmi'}], 'id': 12}, {'answers': [{'text': '24 April 1934'}], 'id': 13}, {'answers': [{'text': 'dunia tanpa peradaban Kristen dan Eropa'}], 'id': 14}, {'answers': [{'text': 'Doktor'}], 'id': 15}, {'answers': [{'text': 'Barat Laut China'}], 'id': 16}, {'answers': [{'text': 'logam'}], 'id': 17}, {'answers': [{'text': 'penulis dan produser Amerika Serikat'}], 'id': 18}, {'answers': [{'text': 'Thornstein Veblen'}], 'id': 19}, {'answers': [{'text': 'Kimigayo'}], 'id': 20}, {'answers': [{'text': 'kota Kartago di Afrika'}], 'id': 21}, {'answers': [{'text': '5.000 hektare'}], 'id': 22}, {'answers': [{'text': 'Cactaceae'}], 'id': 23}, {'answers': [{'text': 'pada masa Neolitikum'}], 'id': 24}, {'answers': [{'text': 'suku Bugis di Sulawesi Selatan'}], 'id': 25}, {'answers': [{'text': '15 April 1684'}], 'id': 26}, {'answers': [{'text': '3 SM'}], 'id': 27}, {'answers': [{'text': '27 Januari 2008'}], 'id': 28}, {'answers': [{'text': '31 Mei 1773'}], 'id': 29}, {'answers': [{'text': 'alan Sriwedani No. 1, Yogyakarta'}], 'id': 30}, {'answers': [{'text': 'cara penulisan bahasa Jepang dan mewakili sebutan sukukata'}], 'id': 31}, {'answers': [{'text': 'sekelompok pemuda Wyggeston School'}], 'id': 32}, {'answers': [{'text': 'gunung dengan lingkaran dari puluhan bintang'}], 'id': 33}, {'answers': [{'text': 'Dakota RI-001 Seulawah'}], 'id': 34}, {'answers': [{'text': 'Abdullah I'}], 'id': 35}, {'answers': [{'text': '1973'}], 'id': 36}, {'answers': [{'text': '1809'}], 'id': 37}, {'answers': [{'text': 'jenis kapal perang yang lebih kecil dari fregat dan lebih besar dari kapal patroli pantai'}], 'id': 38}, {'answers': [{'text': 'Uruguay, Argentina, dan Chili'}], 'id': 39}, {'answers': [{'text': 'seksual atau aseksual'}], 'id': 40}, {'answers': [{'text': 'bahasa Sunda'}], 'id': 41}, {'answers': [{'text': 'baht'}], 'id': 42}, {'answers': [{'text': '17 April 2007'}], 'id': 43}, {'answers': [{'text': '1612'}], 'id': 44}, {'answers': [{'text': 'Yen'}], 'id': 45}, {'answers': [{'text': 'Mahathir Mohammad'}], 'id': 46}, {'answers': [{'text': 'Susanto Megaranto'}], 'id': 47}, {'answers': [{'text': 'Kabupaten Banyuwangi'}], 'id': 48}, {'answers': [{'text': 'Gereja Swedia'}], 'id': 49}, {'answers': [{'text': '16 Oktober 1923'}], 'id': 50}, {'answers': [{'text': 'piringan hitam'}], 'id': 51}, {'answers': [{'text': 'musim panas tahun 1147'}], 'id': 52}, {'answers': [{'text': 'Les Clark, Eric Larson, dan Wolfgang Reitherman'}], 'id': 53}, {'answers': [{'text': 'Sena'}], 'id': 54}, {'answers': [{'text': 'teknik propaganda yang pernah digunakan oleh Uni Soviet saat berinteraksi dengan dunia Barat, kemudian menjadi bentuk propaganda di Rusia pasca-Soviet'}], 'id': 55}, {'answers': [{'text': 'Bandar Udara Internasional Penang'}], 'id': 56}, {'answers': [{'text': 'Cathie'}], 'id': 57}, {'answers': [{'text': 'konsep Hindu, tetapi juga dipakai dalam konteks agama Buddha, untuk merujuk pada berbagai benda nyata'}], 'id': 58}, {'answers': [{'text': '20,779 square kilometres'}], 'id': 59}, {'answers': [{'text': 'Mataram'}], 'id': 60}, {'answers': [{'text': '1807'}], 'id': 61}, {'answers': [{'text': '16 Oktober 2004'}], 'id': 62}, {'answers': [{'text': 'studi tentang penyakit mental, tekanan mental, dan abnormal/perilaku maladaptif'}], 'id': 63}, {'answers': [{'text': '1811'}], 'id': 64}, {'answers': [{'text': 'Jose Poernomo serta Rizal Mantovani'}], 'id': 65}, {'answers': [{'text': 'sekelompok orang yang membentuk sebuah sistem semi tertutup (atau semi terbuka), di mana sebagian besar interaksi adalah antara individu-individu yang berada dalam kelompok tersebut'}], 'id': 66}, {'answers': [{'text': 'merah atau merah tua'}], 'id': 67}, {'answers': [{'text': '60.600 meter persegi'}], 'id': 68}, {'answers': [{'text': '17 Juli 1951'}], 'id': 69}, {'answers': [{'text': '24 Agustus 1962'}], 'id': 70}, {'answers': [{'text': 'Lafran Pane'}], 'id': 71}, {'answers': [{'text': 'kitab sejarah dinasti Liang'}], 'id': 72}, {'answers': [{'text': '9.672km²'}], 'id': 73}, {'answers': [{'text': 'Pangeran Charles dan Maria Luisa dari Parma'}], 'id': 74}, {'answers': [{'text': '10 juta'}], 'id': 75}, {'answers': [{'text': '1453'}], 'id': 76}, {'answers': [{'text': 'daerah di dalam suatu negara yang memiliki kekuasaan otonom, atau kebebasan dari pemerintah di luar daerah tersebut'}], 'id': 77}, {'answers': [{'text': 'salinan pertama Alquran'}], 'id': 78}, {'answers': [{'text': 'pengirim dan penerima informasi tidak dapat menjalin komunikasi yang berkesinambungan melalui media yang sama'}], 'id': 79}, {'answers': [{'text': '12 Februari 2010'}], 'id': 80}, {'answers': [{'text': '1467 hingga berakhirnya zaman Muromachi'}], 'id': 81}, {'answers': [{'text': 'Gabriel Marcel'}], 'id': 82}, {'answers': [{'text': 'Surabaya, Jawa Timur'}], 'id': 83}, {'answers': [{'text': 'istilah ejekan yang dipopulerkan oleh Federasi Wanita Seluruh Tiongkok yang mengklasifikasikan wanita yang masih belum menikah pada usia akhir dua puluh tahunan atau lebih'}], 'id': 84}, {'answers': [{'text': '17'}], 'id': 85}, {'answers': [{'text': '1970an'}], 'id': 86}, {'answers': [{'text': '3–8 m'}], 'id': 87}, {'answers': [{'text': 'sebelah timur laut Tiongkok dekat perbatasan dengan Korea Utara dan Rusia'}], 'id': 88}, {'answers': [{'text': 'sebutan untuk ragam manga atau anime khusus bagi remaja lelaki'}], 'id': 89}, {'answers': [{'text': '12 Januari 1914'}], 'id': 90}, {'answers': [{'text': 'berjalan pada kecepatan supersonik'}], 'id': 91}, {'answers': [{'text': 'sumur Badar'}], 'id': 92}, {'answers': [{'text': 'Sang Singa, sang Penyihir, dan Lemari'}], 'id': 93}, {'answers': [{'text': 'Human Immunodeficiency Virus'}], 'id': 94}, {'answers': [{'text': '24 Mei 1941'}], 'id': 95}, {'answers': [{'text': '4275,08km²'}], 'id': 96}, {'answers': [{'text': 'makhluk suci, makhluk supernatural, penghuni surga, malaikat, dan manifestasi dari Brahman'}], 'id': 97}, {'answers': [{'text': 'avtur'}], 'id': 98}, {'answers': [{'text': '1911'}], 'id': 99}, {'answers': [{'text': 'Max Planck'}], 'id': 100}, {'answers': [{'text': 'Dan Stevens'}], 'id': 101}, {'answers': [{'text': '3 April 2011'}], 'id': 102}, {'answers': [{'text': '2.000 ton'}], 'id': 103}, {'answers': [{'text': '10 Februari 1897'}], 'id': 104}, {'answers': [{'text': '11 Desember 1911'}], 'id': 105}, {'answers': [{'text': '2001'}], 'id': 106}, {'answers': [{'text': 'Farida Al-Hasni'}], 'id': 107}, {'answers': [{'text': 'bagian utara tanah Israel'}], 'id': 108}, {'answers': [{'text': 'Dennil S'}], 'id': 109}, {'answers': [{'text': 'Raden Adjeng Kartini'}], 'id': 110}, {'answers': [{'text': '16 Juli 2012'}], 'id': 111}, {'answers': [{'text': 'Paul Wallot'}], 'id': 112}, {'answers': [{'text': 'meniup sangkakala pada hari kiamat'}], 'id': 113}, {'answers': [{'text': 'Realme 1'}], 'id': 114}, {'answers': [{'text': '1971'}], 'id': 115}, {'answers': [{'text': 'Komomene sebuah nama yang berdasarkan pada nama ibu atau leluhur wanita'}], 'id': 116}, {'answers': [{'text': 'Gubernur DKI Jakarta yang menjabat sejak 19 November 2014 hingga 9 Mei 2017'}], 'id': 117}, {'answers': [{'text': 'Galla Placidia'}], 'id': 118}, {'answers': [{'text': 'Lontong kupang'}], 'id': 119}, {'answers': [{'text': 'Kabupaten Kuningan, Provinsi Jawa Barat, Indonesia'}], 'id': 120}, {'answers': [{'text': 'karena kepahlawanannya saat membela Islam'}], 'id': 121}, {'answers': [{'text': 'tujuh tahun'}], 'id': 122}, {'answers': [{'text': 'John Logie Baird'}], 'id': 123}, {'answers': [{'text': 'Italia'}], 'id': 124}, {'answers': [{'text': 'Encik Yusof bin Ishak'}], 'id': 125}, {'answers': [{'text': 'mengatur air, menurunkan hujan/petir, membagikan rezeki pada manusia, tumbuh-tumbuhan juga hewan-hewan dan lain-lain di muka bumi ini'}], 'id': 126}, {'answers': [{'text': 'istilah yang dipakai baik secara populer maupun dalam bidang filsafat dengan pengertian umum \"citra mental\" atau \"pengertian\"'}], 'id': 127}, {'answers': [{'text': 'Asia Tengah'}], 'id': 128}, {'answers': [{'text': 'Yesus Kristus'}], 'id': 129}, {'answers': [{'text': 'usia yang sangat lanjut'}], 'id': 130}, {'answers': [{'text': 'Kabupaten Kediri'}], 'id': 131}, {'answers': [{'text': 'Maret 1959'}], 'id': 132}, {'answers': [{'text': 'segolongan molekul, baik alami maupun sintetik, yang mempunyai efek menekan atau menghentikan suatu proses biokimia pada organisme, khususnya dalam proses infeksi oleh bakteri'}], 'id': 133}, {'answers': [{'text': 'petani'}], 'id': 134}, {'answers': [{'text': 'Kinetoplastid dan Apicomplexa'}], 'id': 135}, {'answers': [{'text': '637.657 km2'}], 'id': 136}, {'answers': [{'text': '91 SM'}], 'id': 137}, {'answers': [{'text': 'Amerika Serikat'}], 'id': 138}, {'answers': [{'text': '51'}], 'id': 139}, {'answers': [{'text': 'getah pohon'}], 'id': 140}, {'answers': [{'text': '4 Oktober 1883'}], 'id': 141}, {'answers': [{'text': 'Rancangan Undang-Undang Pornografi'}], 'id': 142}, {'answers': [{'text': '15 September 1634'}], 'id': 143}, {'answers': [{'text': '56.18km²'}], 'id': 144}, {'answers': [{'text': 'wangsa kerajaan yang berasal dari wilayah Anjou, Perancis'}], 'id': 145}, {'answers': [{'text': 'Ruth Handler'}], 'id': 146}, {'answers': [{'text': 'Rubel'}], 'id': 147}, {'answers': [{'text': '1995'}], 'id': 148}, {'answers': [{'text': '1889'}], 'id': 149}, {'answers': [{'text': 'Muhammad'}], 'id': 150}, {'answers': [{'text': 'struktur pendelegasian kekuasaan sosiopolitik yang dijalankan kalangan bangsawan/monarki untuk mengendalikan berbagai wilayah yang diklaimnya melalui kerja sama dengan pemimpin-pemimpin lokal sebagai mitra'}], 'id': 151}, {'answers': [{'text': 'Magister Hukum'}], 'id': 152}, {'answers': [{'text': '106.450.000km²'}], 'id': 153}, {'answers': [{'text': '1534'}], 'id': 154}, {'answers': [{'text': '1785'}], 'id': 155}, {'answers': [{'text': 'Jawa'}], 'id': 156}, {'answers': [{'text': 'Kwame Nkrumah'}], 'id': 157}, {'answers': [{'text': 'dua belas volume'}], 'id': 158}, {'answers': [{'text': '5.000'}], 'id': 159}, {'answers': [{'text': '28 September 2018'}], 'id': 160}, {'answers': [{'text': 'cangkang keras yang melindungi organ dalam pada tubuh crustacea'}], 'id': 161}, {'answers': [{'text': 'Neokolonialisme-Kolonialisme-Imperialisme'}], 'id': 162}, {'answers': [{'text': '585'}], 'id': 163}, {'answers': [{'text': '1534'}], 'id': 164}, {'answers': [{'text': 'Ide dari Lorraine'}], 'id': 165}, {'answers': [{'text': 'Pasukan kecil kaum Muslim yang berjumlah 313 orang bertempur menghadapi pasukan Quraisy'}], 'id': 166}, {'answers': [{'text': 'UNICEF'}], 'id': 167}, {'answers': [{'text': 'orang-orang yang beralih dari Kiri anti-Stalinis ke konservatisme Amerika Serikat'}], 'id': 168}, {'answers': [{'text': 'ukuran jumlah putaran ulang per peristiwa dalam satuan detik dengan satuan Hz'}], 'id': 169}, {'answers': [{'text': 'peningkatan ukuran sel-sel otot. Ini berbeda dengan hiperplasia otot, yang adalah pembentukan sel-sel otot baru'}], 'id': 170}, {'answers': [{'text': '1096'}], 'id': 171}, {'answers': [{'text': 'Joseph Frederick Engelberger'}], 'id': 172}, {'answers': [{'text': 'sekitar 19.800 km (12.300mi) dari Indonesia hingga pesisir Kolombia'}], 'id': 173}, {'answers': [{'text': 'perbuatan mengeksploitasi seksual, kecabulan, dan/atau erotika di muka umum'}], 'id': 174}, {'answers': [{'text': '53'}], 'id': 175}, {'answers': [{'text': 'Cyanea capillata'}], 'id': 176}, {'answers': [{'text': '11 September 1945'}], 'id': 177}, {'answers': [{'text': '566,51km²'}], 'id': 178}, {'answers': [{'text': 'desa Daren, kecamatan Nalumsari, Kabupaten Jepara'}], 'id': 179}, {'answers': [{'text': '1945'}], 'id': 180}, {'answers': [{'text': 'Won Korea Selatan'}], 'id': 181}, {'answers': [{'text': 'klasifikasi mobil penumpang namun dibangun di atas kerangka truk ringan'}], 'id': 182}, {'answers': [{'text': '25 ha'}], 'id': 183}, {'answers': [{'text': 'restoran Krusty Krab'}], 'id': 184}, {'answers': [{'text': 'Siberia di Russia'}], 'id': 185}, {'answers': [{'text': 'Taman Monyet Jigokudani'}], 'id': 186}, {'answers': [{'text': 'Lombok'}], 'id': 187}, {'answers': [{'text': 'jenis gempa Bumi yang disebabkan oleh pergeseran lempeng plat tektonik'}], 'id': 188}, {'answers': [{'text': '1946'}], 'id': 189}, {'answers': [{'text': 'Konstantinopel'}], 'id': 190}, {'answers': [{'text': 'gelar bagi putra tsar'}], 'id': 191}, {'answers': [{'text': '1955'}], 'id': 192}, {'answers': [{'text': 'Morfologi'}], 'id': 193}, {'answers': [{'text': 'kembali ke alam'}], 'id': 194}, {'answers': [{'text': 'KH. Imam Syafaat, KH. Maghfur Hasbullah, KH. Mahfudz Hakiem, BA, Kafrawi, H. Farhan Abdul Qodir, K. Qomari Ridwan, K. Imam Mahmudi, Ibnu Mundzir, Bazi Haidar, K. Markum, Ashmu’i Abdul Qodir, Ahmad Hudlori Ibnu Hajar, dan Hirzuddin Hasbullah'}], 'id': 195}, {'answers': [{'text': '1865'}], 'id': 196}, {'answers': [{'text': 'Twister'}], 'id': 197}, {'answers': [{'text': 'subfilum dari chordata'}], 'id': 198}, {'answers': [{'text': 'Papua Barat, Indonesia'}], 'id': 199}, {'answers': [{'text': 'perasaan intens yang ditujukan kepada seseorang atau sesuatu'}], 'id': 200}, {'answers': [{'text': 'Kopi gayo'}], 'id': 201}, {'answers': [{'text': 'Pound Lebanon'}], 'id': 202}, {'answers': [{'text': '21 Juni 1582'}], 'id': 203}, {'answers': [{'text': 'Som'}], 'id': 204}, {'answers': [{'text': 'kuning, hijau, merah, dengan sebuah bintang segilima bewarna putih di tengah-tengahnya'}], 'id': 205}, {'answers': [{'text': 'abad ke-20'}], 'id': 206}, {'answers': [{'text': 'Indonesia'}], 'id': 207}, {'answers': [{'text': 'Perguruan Marshall'}], 'id': 208}, {'answers': [{'text': '20 tahun'}], 'id': 209}, {'answers': [{'text': 'RCTI'}], 'id': 210}, {'answers': [{'text': 'Stasiun Bekasi'}], 'id': 211}, {'answers': [{'text': 'abad ke-18 dan 19'}], 'id': 212}, {'answers': [{'text': 'Honnoji, sebuah kuil di Kyoto'}], 'id': 213}, {'answers': [{'text': 'menghormati dan memuliakan roh para leluhur yang sudah meninggal'}], 'id': 214}, {'answers': [{'text': '1920-an'}], 'id': 215}, {'answers': [{'text': 'Sultan Ali Mughayat Syah'}], 'id': 216}, {'answers': [{'text': 'hijau, putih, dan merah'}], 'id': 217}, {'answers': [{'text': 'ninja kelas rendah yang hanya menjalankan misi kelas D'}], 'id': 218}, {'answers': [{'text': 'sebagai campuran pakan, alas kandang, dicampur di tanah sebagai pupuk, dibakar, atau arangnya dijadikan media tanam'}], 'id': 219}, {'answers': [{'text': 'cabe keriting merah, walaupun kenyataannya masakan balado dengan cabe hijau juga populer'}], 'id': 220}, {'answers': [{'text': '1,120 tonnes (1,100 long tons) ketika berada di permukaan air dan 1,232 tonnes (1,213 long tons) ketika menyelam'}], 'id': 221}, {'answers': [{'text': 'Kepala Staf TNI Angkatan Darat'}], 'id': 222}, {'answers': [{'text': '10 meter'}], 'id': 223}, {'answers': [{'text': '632'}], 'id': 224}, {'answers': [{'text': 'pemerintah'}], 'id': 225}, {'answers': [{'text': 'Anwar Datuk Madjo Basa Nan Kuning'}], 'id': 226}, {'answers': [{'text': 'Januari 1929'}], 'id': 227}, {'answers': [{'text': 'mempelajari bagaimana cara mengetahui berbisnis individu, meningkatkan organisasi, mengalokasi, menggunakan sumber daya moneter dengan sejalannya waktu, dan juga menghitung risiko dalam menjalankan proyeknya'}], 'id': 228}, {'answers': [{'text': '180 ton'}], 'id': 229}, {'answers': [{'text': 'bakteri probiotik'}], 'id': 230}, {'answers': [{'text': 'abad ke-17'}], 'id': 231}, {'answers': [{'text': '103-76 SM'}], 'id': 232}, {'answers': [{'text': '591'}], 'id': 233}, {'answers': [{'text': 'karena ada kesamaan dengan bentuk organisasi yang asalnya dari Italia tersebut'}], 'id': 234}, {'answers': [{'text': 'Lucilia sericata'}], 'id': 235}, {'answers': [{'text': 'Filipus II dari Makedonia'}], 'id': 236}, {'answers': [{'text': 'Kopi gayo'}], 'id': 237}, {'answers': [{'text': 'Lucio Quezón dan María Dolores Molina'}], 'id': 238}, {'answers': [{'text': '1970an'}], 'id': 239}, {'answers': [{'text': 'tiga'}], 'id': 240}, {'answers': [{'text': 'kompleks Masjid Nabawi, Saudi Arabia'}], 'id': 241}, {'answers': [{'text': 'bagian yang relatif kosong dari Jagad Raya, di luar atmosfer dari benda \"celestial\"'}], 'id': 242}, {'answers': [{'text': 'Greenland'}], 'id': 243}, {'answers': [{'text': 'budaya China'}], 'id': 244}, {'answers': [{'text': 'Al-Khwārizmī'}], 'id': 245}, {'answers': [{'text': 'kata sifat, adjektif yang berarti \"kewanitaan\" atau menunjukkan sifat perempuan'}], 'id': 246}, {'answers': [{'text': 'Surabaya, Jawa Timur'}], 'id': 247}, {'answers': [{'text': 'monarki konstitusional yang di dalamnya terdapat kuasa dari seorang Kaisar yang masih dibatasi dan hanya diturunkan terutama ketika melakukan tugas resmi'}], 'id': 248}, {'answers': [{'text': '1939'}], 'id': 249}, {'answers': [{'text': 'abad 19'}], 'id': 250}, {'answers': [{'text': 'Wuyi'}], 'id': 251}, {'answers': [{'text': 'tidak memiliki agama'}], 'id': 252}, {'answers': [{'text': 'Barbara Pierce'}], 'id': 253}, {'answers': [{'text': 'Barbara Pierce Bush'}], 'id': 254}, {'answers': [{'text': 'ISO'}], 'id': 255}, {'answers': [{'text': 'November 2008'}], 'id': 256}, {'answers': [{'text': 'Lagman'}], 'id': 257}, {'answers': [{'text': 'Shimon Peres'}], 'id': 258}, {'answers': [{'text': 'Yen'}], 'id': 259}, {'answers': [{'text': 'pesawat angkut militer'}], 'id': 260}, {'answers': [{'text': 'Desember 2004'}], 'id': 261}, {'answers': [{'text': 'Pulau Hawaii'}], 'id': 262}, {'answers': [{'text': '$24 juta'}], 'id': 263}, {'answers': [{'text': 'sesuatu yang memiliki keberadaan yang unik dan berbeda, walaupun tidak harus dalam bentuk fisik'}], 'id': 264}, {'answers': [{'text': 'gagasan eskatologi'}], 'id': 265}, {'answers': [{'text': 'fitur universal yang dimiliki oleh semua jenis sel berupa lapisan antarmuka yang disebut membran plasma, yang memisahkan sel dengan lingkungan di luar sel,[1] terutama untuk melindungi inti sel dan sistem kelangsungan hidup yang bekerja di dalam sitoplasma'}], 'id': 266}, {'answers': [{'text': 'Belgia'}], 'id': 267}, {'answers': [{'text': '67.340 kilometer persegi'}], 'id': 268}, {'answers': [{'text': '2011'}], 'id': 269}, {'answers': [{'text': 'memajukan industri televisi swasta Indonesia yang berfungsi secara aktif memajukan, menampung, menyalurkan kepentingan dan keinginan bersama dalam mengembangkan etika perilaku, tanggung jawab profesional dan pelayanan bagi anggotanya demi kepentingan masyarakat'}], 'id': 270}, {'answers': [{'text': 'Swedia'}], 'id': 271}, {'answers': [{'text': 'Penghargaan Pulitzer'}], 'id': 272}, {'answers': [{'text': 'pengirim dan penerima informasi dapat menjalin komunikasi yang berkesinambungan melalui media yang sama'}], 'id': 273}, {'answers': [{'text': '20 April 1868'}], 'id': 274}, {'answers': [{'text': '309,864500km persegi'}], 'id': 275}, {'answers': [{'text': '12 Februari 1994'}], 'id': 276}, {'answers': [{'text': 'kajian masalah umum dan mendasar tentang persoalan seperti eksistensi, pengetahuan, nilai, akal, pikiran, dan bahasa'}], 'id': 277}, {'answers': [{'text': '15 m²'}], 'id': 278}, {'answers': [{'text': 'tempat atau perangkat yang digunakan untuk membuat, mengatur, dan menjaga kesinambungan reaksi nuklir berantai pada laju yang tetap'}], 'id': 279}, {'answers': [{'text': 'Spanyol'}], 'id': 280}, {'answers': [{'text': '500 tahun'}], 'id': 281}, {'answers': [{'text': '1963'}], 'id': 282}, {'answers': [{'text': 'Vladimir Putin'}], 'id': 283}, {'answers': [{'text': 'dianugerahkan setiap tahun kepada mereka yang telah melakukan penelitian yang luar biasa, menemukan teknik atau peralatan yang baru, atau telah melakukan kontribusi luar biasa ke masyarakat'}], 'id': 284}, {'answers': [{'text': 'rumput kering'}], 'id': 285}, {'answers': [{'text': 'MotoGP'}], 'id': 286}, {'answers': [{'text': 'Patrick Star'}], 'id': 287}, {'answers': [{'text': 'Eugen Sandow'}], 'id': 288}, {'answers': [{'text': 'Praha'}], 'id': 289}, {'answers': [{'text': '12 Januari 1916'}], 'id': 290}, {'answers': [{'text': 'Palu, Indonesia'}], 'id': 291}, {'answers': [{'text': '1900'}], 'id': 292}, {'answers': [{'text': 'Badan Narkotika Nasional'}], 'id': 293}, {'answers': [{'text': 'Helmut dan Erica Simon'}], 'id': 294}, {'answers': [{'text': 'himpunan membran yang membentuk unit fungsional dan perkembangan tunggal, baik yang terhubung bersama-sama secara langsung, atau bertukar materi melalui transportasi vesikel'}], 'id': 295}, {'answers': [{'text': 'Amerika Serikat'}], 'id': 296}, {'answers': [{'text': 'Eustace II'}], 'id': 297}, {'answers': [{'text': 'Gorinchem'}], 'id': 298}, {'answers': [{'text': 'doktor'}], 'id': 299}, {'answers': [{'text': 'prajurit dua Angkatan Darat Kekaisaran Jepang kelahiran Taiwan yang bertempur demi Jepang di dalam Perang Dunia II dan baru menyerah pada tahun 1974 di Pulau Morotai, Indonesia'}], 'id': 300}, {'answers': [{'text': 'Antara tahun 1994 dan 1996'}], 'id': 301}, {'answers': [{'text': 'Polandia'}], 'id': 302}, {'answers': [{'text': 'gelar istana yang merupakan bentuk wanita dari gelar maharaja dan digunakan untuk merujuk kepada maharaja perempuan'}], 'id': 303}, {'answers': [{'text': 'Jalan Pegangsaan Timur 56, Jakarta Pusat'}], 'id': 304}, {'answers': [{'text': 'Laster Fanssworth wire'}], 'id': 305}, {'answers': [{'text': '10'}], 'id': 306}, {'answers': [{'text': '17 Januari 2003'}], 'id': 307}, {'answers': [{'text': '1896'}], 'id': 308}, {'answers': [{'text': 'Muhammad Tabrani'}], 'id': 309}, {'answers': [{'text': '1983'}], 'id': 310}, {'answers': [{'text': '29 Maret 1967'}], 'id': 311}, {'answers': [{'text': 'Pertemuan Pramuka Penggalang dalam bentuk perkemahan besar yang diselenggarakan oleh Kwartir Gerakan Pramuka dari tingkat yang paling ranting sampai tingkat nasional'}], 'id': 312}, {'answers': [{'text': '12'}], 'id': 313}, {'answers': [{'text': 'empat'}], 'id': 314}, {'answers': [{'text': '1419'}], 'id': 315}, {'answers': [{'text': 'Arsène Lupin III'}], 'id': 316}, {'answers': [{'text': 'daerah beriklim tropis dan subtropis'}], 'id': 317}, {'answers': [{'text': '23 September 1215'}], 'id': 318}, {'answers': [{'text': 'Raphael Lemkin'}], 'id': 319}, {'answers': [{'text': 'Rial'}], 'id': 320}, {'answers': [{'text': 'Tomanurung ri Matajang MatasilompoE'}], 'id': 321}, {'answers': [{'text': 'Jakob Tobing, Mangara Tambunan, Matius Ho, Radja Kami Sembiring Meliala, dan Viveka Nanda Leimena'}], 'id': 322}, {'answers': [{'text': 'Buddha, 18.3% sebagai penganut Protestan dan 10.9% sebagai penganut Katolik Roma, dengan total 29.2% penganut Kristen'}], 'id': 323}, {'answers': [{'text': 'Soekarno'}], 'id': 324}, {'answers': [{'text': 'Liaquat Ali Khan'}], 'id': 325}, {'answers': [{'text': 'lima'}], 'id': 326}, {'answers': [{'text': '125 SM'}], 'id': 327}, {'answers': [{'text': 'Teluk Nibung, Selat Malaka, Kabupaten Asahan'}], 'id': 328}, {'answers': [{'text': '76,79 Km2'}], 'id': 329}, {'answers': [{'text': 'peralatan perangkat keras (hardware) dalam sebuah struktur organisasi yang mengandung nilai-nilai sosial yang memungkinkan setiap individu mengumpulkan, memproses dan saling tukar menukar informasi dengan individu-individu lain'}], 'id': 330}, {'answers': [{'text': 'Timur Tengah'}], 'id': 331}, {'answers': [{'text': 'kepercayaan asli rakyat Korea yang menggabungkan berbagai kepercayaan dan praktik yang dipengaruhi agama asli Korea, agama Buddha dan Taoisme'}], 'id': 332}, {'answers': [{'text': 'Paus biru'}], 'id': 333}, {'answers': [{'text': 'Liang Bua, Pulau Flores'}], 'id': 334}, {'answers': [{'text': 'Gareth Evans'}], 'id': 335}, {'answers': [{'text': '1481'}], 'id': 336}, {'answers': [{'text': 'mengatur air, menurunkan hujan/petir, membagikan rezeki pada manusia, tumbuh-tumbuhan juga hewan-hewan dan lain-lain di muka bumi ini'}], 'id': 337}, {'answers': [{'text': 'Steve Blum'}], 'id': 338}, {'answers': [{'text': 'asam aspartat dan fenilalanina'}], 'id': 339}, {'answers': [{'text': 'Guy Verhofstadt'}], 'id': 340}, {'answers': [{'text': '10.000 tahun yang lalu'}], 'id': 341}, {'answers': [{'text': 'klarinet'}], 'id': 342}, {'answers': [{'text': 'Jalan Jenderal Gatot Subroto, Jakarta, Indonesia'}], 'id': 343}, {'answers': [{'text': 'kaisar Mongol (1260-1294) dan juga pendiri Dinasti Yuan'}], 'id': 344}, {'answers': [{'text': 'Katolik'}], 'id': 345}, {'answers': [{'text': '4.800km²'}], 'id': 346}, {'answers': [{'text': '1265'}], 'id': 347}, {'answers': [{'text': 'selaput, kulit tipis, atau lembaran bahan tipis, yang berfungsi sebagai pemisah selektif'}], 'id': 348}, {'answers': [{'text': '1496'}], 'id': 349}, {'answers': [{'text': 'hijau, putih, dan merah'}], 'id': 350}, {'answers': [{'text': 'bahan dengan konduktivitas listrik yang berada di antara insulator (isolator) dan konduktor'}], 'id': 351}, {'answers': [{'text': 'rangkaian proses penyampaian informasi atau pesan kepada pihak lain dengan penggunaan media penggambaran yang hanya terbaca oleh indra penglihatan'}], 'id': 352}, {'answers': [{'text': \"Bahá'u'lláh\"}], 'id': 353}, {'answers': [{'text': 'London, Inggris'}], 'id': 354}, {'answers': [{'text': 'Jenderal Soedirman'}], 'id': 355}, {'answers': [{'text': 'Sorong'}], 'id': 356}, {'answers': [{'text': '1781'}], 'id': 357}, {'answers': [{'text': 'Oktober 2011'}], 'id': 358}, {'answers': [{'text': 'Michael Schumacher'}], 'id': 359}, {'answers': [{'text': 'sebesar Pulau Bangka'}], 'id': 360}, {'answers': [{'text': 'Jl. Medan Merdeka Selatan No. 8-9, Jakarta Pusat'}], 'id': 361}, {'answers': [{'text': '2007'}], 'id': 362}, {'answers': [{'text': 'Bahasa Bulgaria'}], 'id': 363}, {'answers': [{'text': 'Eropa Selatan'}], 'id': 364}, {'answers': [{'text': '1954'}], 'id': 365}, {'answers': [{'text': 'konflik sektarian antara Muslim dan Kristen di Poso'}], 'id': 366}, {'answers': [{'text': 'Perancis bagian barat daya'}], 'id': 367}, {'answers': [{'text': '1 Januari 1912'}], 'id': 368}, {'answers': [{'text': '1998'}], 'id': 369}, {'answers': [{'text': 'Saparmurat Niyazov'}], 'id': 370}, {'answers': [{'text': 'Ibrani'}], 'id': 371}, {'answers': [{'text': 'Sanskerta'}], 'id': 372}, {'answers': [{'text': '26.000'}], 'id': 373}, {'answers': [{'text': 'Samuel Rizal dan Shandy Aulia'}], 'id': 374}, {'answers': [{'text': 'uang dalam sel yang berisi cairan (cell sap dalam bahasa Inggris) yang berupa rongga yang diselaputi membran'}], 'id': 375}, {'answers': [{'text': 'ke-12 hingga abad ke-19'}], 'id': 376}, {'answers': [{'text': 'Kristen (Gereja Maronit, Gereja Ortodoks Yunani, Gereja Katolik Yunani Melkit, Gereja Protestan, Gereja Apostolik Armenia) dan Islam (Syiah dan Sunni)'}], 'id': 377}, {'answers': [{'text': 'Asur-etillu-ili'}], 'id': 378}, {'answers': [{'text': '1918'}], 'id': 379}, {'answers': [{'text': 'Mr. Soemanang'}], 'id': 380}, {'answers': [{'text': 'Simfoni No. 9 dalam tangga nada D minor'}], 'id': 381}, {'answers': [{'text': '16 Juni 2007'}], 'id': 382}, {'answers': [{'text': 'Paris, Kerajaan Perancis'}], 'id': 383}, {'answers': [{'text': 'bahasa Yunani'}], 'id': 384}, {'answers': [{'text': '1945 hingga 1965'}], 'id': 385}, {'answers': [{'text': '14'}], 'id': 386}, {'answers': [{'text': '25 November 1946'}], 'id': 387}, {'answers': [{'text': '131.3 mil persegi'}], 'id': 388}, {'answers': [{'text': 'Tadashi Maeda, Tomegoro Yoshizumi, S. Nishijima, S. Miyoshi, Mohammad Hatta, Soekarno, dan Achmad Soebardjo'}], 'id': 389}, {'answers': [{'text': '1978 hingga 1984'}], 'id': 390}, {'answers': [{'text': 'abad ke-13 hijrah'}], 'id': 391}, {'answers': [{'text': '2017'}], 'id': 392}, {'answers': [{'text': 'orang yang memiliki identitas gender atau ekspresi gender yang berbeda dengan seksnya yang ditunjuk saat lahir'}], 'id': 393}, {'answers': [{'text': '15 September 1971'}], 'id': 394}, {'answers': [{'text': 'wilayah kota yang mayoritas penghuninya adalah orang Tionghoa'}], 'id': 395}, {'answers': [{'text': '23 November 2001'}], 'id': 396}, {'answers': [{'text': 'Posesif'}], 'id': 397}, {'answers': [{'text': 'Daerah Istimewa Yogyakarta'}], 'id': 398}, {'answers': [{'text': 'Eropa Selatan'}], 'id': 399}, {'answers': [{'text': 'Universitas Hamburg'}], 'id': 400}, {'answers': [{'text': '1966 hingga 1978'}], 'id': 401}, {'answers': [{'text': 'pengajar, aktivis sosial kemasyarakatan dan profesional Indonesia'}], 'id': 402}, {'answers': [{'text': '10 November 2017'}], 'id': 403}, {'answers': [{'text': 'Rajendra Prasad'}], 'id': 404}, {'answers': [{'text': '1945 hingga 1965'}], 'id': 405}, {'answers': [{'text': '1905'}], 'id': 406}, {'answers': [{'text': '23 Oktober 1928'}], 'id': 407}, {'answers': [{'text': 'Desember 1946-Februari 1947'}], 'id': 408}, {'answers': [{'text': '1999'}], 'id': 409}, {'answers': [{'text': 'gerakan pembinaan pemuda yang memiliki pengaruh mendunia'}], 'id': 410}, {'answers': [{'text': 'perairan 750.000 mil persegi (1.900.000 km2) dan dengan luas daratan hanya 70 mil persegi'}], 'id': 411}, {'answers': [{'text': 'Amerika Selatan'}], 'id': 412}, {'answers': [{'text': 'Real Brasil'}], 'id': 413}, {'answers': [{'text': 'Jakarta'}], 'id': 414}, {'answers': [{'text': 'Arief Rachman'}], 'id': 415}, {'answers': [{'text': 'memberikan pembelaan terhadap masyarakat tidak mampu'}], 'id': 416}, {'answers': [{'text': 'pemelihara'}], 'id': 417}, {'answers': [{'text': 'substansi yang terdiri dari molekul-molekul yang menyertakan rangkaian satu atau lebih dari satu unit monomer'}], 'id': 418}, {'answers': [{'text': 'Jenderal Besar untuk Angkatan Darat, Laksamana Besar untuk Angkatan Laut dan Marsekal Besar untuk Angkatan Udara'}], 'id': 419}, {'answers': [{'text': 'Abu Bakar Ash-Shiddiq'}], 'id': 420}, {'answers': [{'text': 'Sommerfeld dekat Lipsk'}], 'id': 421}, {'answers': [{'text': 'daerah yang dikuasai atau menjadi teritorial dari sebuah kedaulatan'}], 'id': 422}, {'answers': [{'text': '218 kilometer'}], 'id': 423}, {'answers': [{'text': 'keluarnya magma di kedalaman dangkal di bawah gunung berapi'}], 'id': 424}, {'answers': [{'text': 'Los Angeles, California, Amerika Serikat'}], 'id': 425}, {'answers': [{'text': '27 Januari 2013'}], 'id': 426}, {'answers': [{'text': 'Andra'}], 'id': 427}, {'answers': [{'text': 'FM 96,30MHz'}], 'id': 428}, {'answers': [{'text': 'Gereja Sion'}], 'id': 429}, {'answers': [{'text': 'Majestic Hotel'}], 'id': 430}, {'answers': [{'text': 'pusat populasi besar yang terdiri atas satu metropolis besar dan daerah sekitarnya, atau beberapa kota sentral yang saling bertetangga dan daerah sekitarnya'}], 'id': 431}, {'answers': [{'text': 'protein 3,6%, lemak 6,17%, bahan kering 15,49%, dan BKTL 9,32%'}], 'id': 432}, {'answers': [{'text': '1999'}], 'id': 433}, {'answers': [{'text': 'Leiden'}], 'id': 434}, {'answers': [{'text': 'bangsa Arab'}], 'id': 435}, {'answers': [{'text': 'tempat menyimpan, menyiapkan, melakukan pemeriksaan, memelihara, dan perbaikan ringan agar lokomotif siap untuk melakukan tugasnya menarik rangkaian kereta api'}], 'id': 436}, {'answers': [{'text': '1611'}], 'id': 437}, {'answers': [{'text': 'beberapa pendiri PPPK Petra'}], 'id': 438}, {'answers': [{'text': 'Benjamin Bejbaum dan Oliver Poitrey'}], 'id': 439}, {'answers': [{'text': 'wilayah hutan bakau (mangrove) di pesisir utara Jakarta'}], 'id': 440}, {'answers': [{'text': 'PT Gramedia Pustaka Utama'}], 'id': 441}, {'answers': [{'text': 'Afrika bagian barat daya'}], 'id': 442}, {'answers': [{'text': 'Penghargaan Pulitzer'}], 'id': 443}, {'answers': [{'text': 'dr. Angka Nitisastro, Soedjasmono, Kyai Haji Yahya Hasyim, dan didukung oleh Roeslan Abdulgani'}], 'id': 444}, {'answers': [{'text': '22 Januari 1974'}], 'id': 445}, {'answers': [{'text': 'enam'}], 'id': 446}, {'answers': [{'text': 'trinitas Taoisme, tiga Dewata tertinggi dalam jajaran Taoisme'}], 'id': 447}, {'answers': [{'text': 'Romulus Augustulus'}], 'id': 448}, {'answers': [{'text': 'semua jenis interaksi biologis jangka panjang dan dekat antara dua organisme biologis yang berbeda, baik itu mutualisme, komensalisme, atau parasitisme'}], 'id': 449}, {'answers': [{'text': 'Perang Pewaris Austria (1740 – 1748) dan Perang Tujuh Tahun'}], 'id': 450}, {'answers': [{'text': 'logam atau plastik'}], 'id': 451}, {'answers': [{'text': 'baterai yang biasa digunakan pada jam tangan'}], 'id': 452}, {'answers': [{'text': '25 Mei 1887'}], 'id': 453}, {'answers': [{'text': 'stroke'}], 'id': 454}, {'answers': [{'text': 'sumber minyak jarak'}], 'id': 455}, {'answers': [{'text': 'Chand Parwez Servia'}], 'id': 456}, {'answers': [{'text': 'pernikahan'}], 'id': 457}, {'answers': [{'text': 'senjata para prajurit elit'}], 'id': 458}, {'answers': [{'text': 'istana Barcelona'}], 'id': 459}, {'answers': [{'text': 'Amerika Serikat'}], 'id': 460}, {'answers': [{'text': 'agama-agama yang muncul dari suatu tradisi Semit kuno bersama dan yang ditelusuri oleh para pemeluknya'}], 'id': 461}, {'answers': [{'text': '1191'}], 'id': 462}, {'answers': [{'text': 'ilmu atau seni dalam menciptakan dan menghias lambang, beserta kajian tentang makna, asal-usul, sejarah, dan perkembangannya'}], 'id': 463}, {'answers': [{'text': 'pola permukiman dan ritualnya'}], 'id': 464}, {'answers': [{'text': 'Kembalinya Pendekar Pemanah Rajawali'}], 'id': 465}, {'answers': [{'text': 'selaput, kulit tipis, atau lembaran bahan tipis, yang berfungsi sebagai pemisah selektif'}], 'id': 466}, {'answers': [{'text': '1999'}], 'id': 467}, {'answers': [{'text': 'ukuran jumlah putaran ulang per peristiwa dalam satuan detik dengan satuan Hz'}], 'id': 468}, {'answers': [{'text': 'salah satu kategori lembaga religius Katolik'}], 'id': 469}, {'answers': [{'text': 'Lamatta, Mario-ri Wawo, Soppeng'}], 'id': 470}, {'answers': [{'text': 'tiga ribu tahun sebelum Masehi'}], 'id': 471}, {'answers': [{'text': '400,6km²'}], 'id': 472}, {'answers': [{'text': 'Rumah Baanjung'}], 'id': 473}, {'answers': [{'text': 'Michelle Obama'}], 'id': 474}, {'answers': [{'text': '9 Juni 1075'}], 'id': 475}, {'answers': [{'text': 'Maria Corazon Sumulong Cojuangco Aquino'}], 'id': 476}, {'answers': [{'text': '1970'}], 'id': 477}, {'answers': [{'text': '27 Oktober 1952'}], 'id': 478}, {'answers': [{'text': '26'}], 'id': 479}, {'answers': [{'text': '18 November 1912'}], 'id': 480}, {'answers': [{'text': 'Ruggeru IV, Adipati Puglia, yang mendahului ayahandanya, Robert, juga mendahului ayahandanya, Gugghiermu, ahli waris, dan Arricus, Pangeran Capua'}], 'id': 481}, {'answers': [{'text': 'segolongan molekul, baik alami maupun sintetik, yang mempunyai efek menekan atau menghentikan suatu proses biokimia pada organisme, khususnya dalam proses infeksi oleh bakteri'}], 'id': 482}, {'answers': [{'text': 'Suku Māori di Selandia Baru'}], 'id': 483}, {'answers': [{'text': '2.045'}], 'id': 484}, {'answers': [{'text': 'menekankan pada kesatuan spiritual bagi seluruh umat manusia'}], 'id': 485}, {'answers': [{'text': 'roh suci sekaligus dewa yang tertinggi'}], 'id': 486}, {'answers': [{'text': 'Dakota RI-001 Seulawah'}], 'id': 487}, {'answers': [{'text': 'MGM Cartoon Studio'}], 'id': 488}, {'answers': [{'text': 'Kimi no Shiranai Monogatari'}], 'id': 489}, {'answers': [{'text': 'Sanshin'}], 'id': 490}, {'answers': [{'text': 'Podgorica'}], 'id': 491}, {'answers': [{'text': 'monarki konstitusional'}], 'id': 492}, {'answers': [{'text': '36.417'}], 'id': 493}, {'answers': [{'text': 'wilayah Kerajaan Timbanganten dengan ibukota Tegalluar'}], 'id': 494}, {'answers': [{'text': 'ukuran jumlah putaran ulang per peristiwa dalam satuan detik dengan satuan Hz'}], 'id': 495}, {'answers': [{'text': 'cabang kimia teori, yang menerapkan mekanika kuantum (dan belakangan ini teori medan kuantum) untuk menangani masalah dalam kimia'}], 'id': 496}, {'answers': [{'text': 'usia delapan tahun'}], 'id': 497}, {'answers': [{'text': 'Afrika bagian selatan'}], 'id': 498}, {'answers': [{'text': 'Eropa Selatan'}], 'id': 499}, {'answers': [{'text': 'Perang Dunia II'}], 'id': 500}, {'answers': [{'text': 'Bohemia, Eropa Tengah'}], 'id': 501}, {'answers': [{'text': 'Hammer DeRoburt'}], 'id': 502}, {'answers': [{'text': 'Inggris'}], 'id': 503}, {'answers': [{'text': 'senyawa garam alkali tanah dengan halida yang terbentuk dari unsur kalium dan klor'}], 'id': 504}, {'answers': [{'text': 'musyawarah'}], 'id': 505}, {'answers': [{'text': 'Dokumentasi fakta-fakta terjadinya evolusi dilakukan oleh cabang biologi'}], 'id': 506}, {'answers': [{'text': 'masyarakat miskin'}], 'id': 507}, {'answers': [{'text': '1.850'}], 'id': 508}, {'answers': [{'text': '21 Maret 1969'}], 'id': 509}, {'answers': [{'text': '632'}], 'id': 510}, {'answers': [{'text': 'Athanasius Kircher'}], 'id': 511}, {'answers': [{'text': 'mata hitam, rambut hitam yang tak pernah memanjang dan memiliki ekor'}], 'id': 512}, {'answers': [{'text': 'Perang Dunia II'}], 'id': 513}, {'answers': [{'text': 'alat atau sarana yang digunakan untuk menyampaikan pesan dari komunikator kepada khalayak'}], 'id': 514}, {'answers': [{'text': 'Aristokrasi'}], 'id': 515}, {'answers': [{'text': '28 Juli 2004'}], 'id': 516}, {'answers': [{'text': 'rasul'}], 'id': 517}, {'answers': [{'text': 'Januari dan Februari 1933'}], 'id': 518}, {'answers': [{'text': 'Sumatera Barat'}], 'id': 519}, {'answers': [{'text': 'bangsa Eropa dan Asia seperti Yunani, Romawi, India,\\nLatin, dan Arab'}], 'id': 520}, {'answers': [{'text': '1980-1982'}], 'id': 521}, {'answers': [{'text': 'Pater Joseph Ignatius Gerardus Maria Dros'}], 'id': 522}, {'answers': [{'text': 'bagian dari Mahabharata yang termasyhur, dalam bentuk dialog yang dituangkan dalam bentuk syair'}], 'id': 523}, {'answers': [{'text': '15 Maret 1956'}], 'id': 524}, {'answers': [{'text': 'usia empat belas'}], 'id': 525}, {'answers': [{'text': '2003'}], 'id': 526}, {'answers': [{'text': '1901'}], 'id': 527}, {'answers': [{'text': '1 Januari 1912'}], 'id': 528}, {'answers': [{'text': 'diangkat oleh Presiden atas rekomendasi perwakilan partai di Knesset'}], 'id': 529}, {'answers': [{'text': 'Pulau Malé'}], 'id': 530}, {'answers': [{'text': '14.386 km2'}], 'id': 531}, {'answers': [{'text': '2 Juli 626'}], 'id': 532}, {'answers': [{'text': 'Dick Klein'}], 'id': 533}, {'answers': [{'text': 'Bunga Jelitha Ibrani'}], 'id': 534}, {'answers': [{'text': 'organisasi semi militer yang dibentuk pada 3 April 1944 yang bertugas mengembalikan pemerintahan sipil dan hukum pemerintah kolonial Hindia Belanda selepas kapitulasi pasukan pendudukan Jepang di wilayah Hindia Belanda (sekarang Indonesia) seusai Perang Dunia II'}], 'id': 535}, {'answers': [{'text': 'perbatasan Kabupaten Kuningan, Jawa Barat dan Kabupaten Brebes, Jawa Tengah'}], 'id': 536}, {'answers': [{'text': '309'}], 'id': 537}, {'answers': [{'text': '29 Januari 1948'}], 'id': 538}, {'answers': [{'text': '4275,08km²'}], 'id': 539}, {'answers': [{'text': '657 Masehi'}], 'id': 540}, {'answers': [{'text': 'Maalik'}], 'id': 541}, {'answers': [{'text': 'Spanyol bagian selatan'}], 'id': 542}, {'answers': [{'text': 'golongan obat yang bersifat fungisida atau fungistatik yang dapat digunakan untuk mengobati dan mencegah mikosis seperti kutu air, kurap, kandidiasis, infeksi sistemik serius seperti meningitis kriptokokus, dan lain-lain'}], 'id': 543}, {'answers': [{'text': 'Kazunari Ninomiya'}], 'id': 544}, {'answers': [{'text': 'distrik Starnberg, Bayern, Jerman'}], 'id': 545}, {'answers': [{'text': '100'}], 'id': 546}, {'answers': [{'text': 'Pdt. Prof. DR. Abraham Alex Tanuseputra'}], 'id': 547}, {'answers': [{'text': 'Naruto Uzumaki'}], 'id': 548}, {'answers': [{'text': 'cairan manis kaya dengan gula yang diproduksi bunga dari tumbuh-tumbuhan sewaktu mekar untuk menarik kedatangan hewan penyerbuk seperti serangga'}], 'id': 549}, {'answers': [{'text': 'larangan orang asing berusaha di bidang perdagangan eceran di tingkat kabupaten ke bawah (di luar ibu kota daerah) dan wajib mengalihkan usaha mereka kepada warga negara Indonesia'}], 'id': 550}, {'answers': [{'text': '2009'}], 'id': 551}, {'answers': [{'text': 'kondisi yang disebabkan oleh kelainan oleh satu atau lebih gen yang menyebabkan sebuah kondisi fenotipe klinis'}], 'id': 552}, {'answers': [{'text': 'memimpin sebuah pertunjukan musik melalui gerak isyarat'}], 'id': 553}, {'answers': [{'text': 'Wilhelm I'}], 'id': 554}, {'answers': [{'text': 'Semarang'}], 'id': 555}, {'answers': [{'text': 'perasaan intens yang ditujukan kepada seseorang atau sesuatu'}], 'id': 556}, {'answers': [{'text': 'Casuarius casuarius'}], 'id': 557}, {'answers': [{'text': '14 Oktober 2016'}], 'id': 558}, {'answers': [{'text': 'Dr. Sihar Pangihutan Hamonangan Sitorus Pane, BSBA MBA'}], 'id': 559}, {'answers': [{'text': 'Jerman'}], 'id': 560}, {'answers': [{'text': 'pemerintah federal'}], 'id': 561}, {'answers': [{'text': 'tingkatan dalam pramuka setelah siaga'}], 'id': 562}, {'answers': [{'text': 'Doctor of Businees Administration'}], 'id': 563}, {'answers': [{'text': 'Maret 2013'}], 'id': 564}, {'answers': [{'text': '1939'}], 'id': 565}, {'answers': [{'text': '21 Juni 1977'}], 'id': 566}, {'answers': [{'text': 'erupakan satuan linguistik yang lebih besar dari kata dan lebih kecil dari klausa dan'}], 'id': 567}, {'answers': [{'text': 'Aretas I'}], 'id': 568}, {'answers': [{'text': '17 Januari 2003'}], 'id': 569}, {'answers': [{'text': 'Jean Henri Dunant'}], 'id': 570}, {'answers': [{'text': '566,51km²'}], 'id': 571}, {'answers': [{'text': '1872'}], 'id': 572}, {'answers': [{'text': '34°C'}], 'id': 573}, {'answers': [{'text': '15 April 1945'}], 'id': 574}, {'answers': [{'text': '1967'}], 'id': 575}, {'answers': [{'text': '10 inci'}], 'id': 576}, {'answers': [{'text': 'Vokalis Jon Bon Jovi, Keyboardist David Bryan, Drummer Tico Torres, Gitaris Phil X, dan Bassist Hugh McDonald'}], 'id': 577}, {'answers': [{'text': 'organisasi yang memiliki rantai komando dengan bentuk piramida, di mana lebih banyak orang berada ditingkat bawah daripada tingkat atas'}], 'id': 578}, {'answers': [{'text': '10 November 1946'}], 'id': 579}, {'answers': [{'text': '1960'}], 'id': 580}, {'answers': [{'text': 'Bon Jovi'}], 'id': 581}, {'answers': [{'text': 'Toulouse, Perancis'}], 'id': 582}, {'answers': [{'text': 'abad ke-13'}], 'id': 583}, {'answers': [{'text': 'cabang ilmu kedokteran yang menangani penyakit pada sistem endokrin serta sekresi spesifiknya yang disebut hormon'}], 'id': 584}, {'answers': [{'text': '20.153,15 km2'}], 'id': 585}, {'answers': [{'text': 'menyelesaikan pertarungan yang terjadi antara otonomi yang dimiliki oleh domestik dan stabilitas internasional, namun dasar yang terdapat dalam sistem-otonomi kebijakan nasional, nilai tukar tetap, dan kemampuan untuk mengubah mata uang-satu sama lain saling bertolak belakang'}], 'id': 586}, {'answers': [{'text': '147.181 km²'}], 'id': 587}, {'answers': [{'text': 'respon dari suatu organisme terhadap patogen dan alterasi mekanis dalam jaringan, berupa rangkaian reaksi yang terjadi pada tempat jaringan yang mengalami cedera, seperti karena terbakar, atau terinfeksi'}], 'id': 588}, {'answers': [{'text': 'Raja Jangsu'}], 'id': 589}, {'answers': [{'text': 'abad ke-17an'}], 'id': 590}, {'answers': [{'text': 'Bekasi, Indonesia'}], 'id': 591}, {'answers': [{'text': 'setelah Perang Dunia I'}], 'id': 592}, {'answers': [{'text': 'abad pertengahan'}], 'id': 593}, {'answers': [{'text': '1970an'}], 'id': 594}, {'answers': [{'text': '29095m²'}], 'id': 595}, {'answers': [{'text': '3 ton'}], 'id': 596}, {'answers': [{'text': ''}], 'id': 597}, {'answers': [{'text': ''}], 'id': 598}, {'answers': [{'text': ''}], 'id': 599}, {'answers': [{'text': ''}], 'id': 600}, {'answers': [{'text': ''}], 'id': 601}, {'answers': [{'text': ''}], 'id': 602}, {'answers': [{'text': ''}], 'id': 603}, {'answers': [{'text': ''}], 'id': 604}, {'answers': [{'text': ''}], 'id': 605}, {'answers': [{'text': ''}], 'id': 606}, {'answers': [{'text': ''}], 'id': 607}, {'answers': [{'text': ''}], 'id': 608}, {'answers': [{'text': ''}], 'id': 609}, {'answers': [{'text': ''}], 'id': 610}, {'answers': [{'text': ''}], 'id': 611}, {'answers': [{'text': ''}], 'id': 612}, {'answers': [{'text': ''}], 'id': 613}, {'answers': [{'text': ''}], 'id': 614}, {'answers': [{'text': ''}], 'id': 615}, {'answers': [{'text': ''}], 'id': 616}, {'answers': [{'text': ''}], 'id': 617}, {'answers': [{'text': ''}], 'id': 618}, {'answers': [{'text': ''}], 'id': 619}, {'answers': [{'text': ''}], 'id': 620}, {'answers': [{'text': ''}], 'id': 621}, {'answers': [{'text': ''}], 'id': 622}, {'answers': [{'text': ''}], 'id': 623}, {'answers': [{'text': ''}], 'id': 624}, {'answers': [{'text': ''}], 'id': 625}, {'answers': [{'text': ''}], 'id': 626}, {'answers': [{'text': ''}], 'id': 627}, {'answers': [{'text': ''}], 'id': 628}, {'answers': [{'text': ''}], 'id': 629}, {'answers': [{'text': ''}], 'id': 630}, {'answers': [{'text': ''}], 'id': 631}, {'answers': [{'text': ''}], 'id': 632}, {'answers': [{'text': ''}], 'id': 633}, {'answers': [{'text': ''}], 'id': 634}, {'answers': [{'text': ''}], 'id': 635}, {'answers': [{'text': ''}], 'id': 636}, {'answers': [{'text': ''}], 'id': 637}, {'answers': [{'text': ''}], 'id': 638}, {'answers': [{'text': ''}], 'id': 639}, {'answers': [{'text': ''}], 'id': 640}, {'answers': [{'text': ''}], 'id': 641}, {'answers': [{'text': ''}], 'id': 642}, {'answers': [{'text': ''}], 'id': 643}, {'answers': [{'text': ''}], 'id': 644}, {'answers': [{'text': ''}], 'id': 645}, {'answers': [{'text': ''}], 'id': 646}, {'answers': [{'text': ''}], 'id': 647}, {'answers': [{'text': ''}], 'id': 648}, {'answers': [{'text': ''}], 'id': 649}, {'answers': [{'text': ''}], 'id': 650}, {'answers': [{'text': ''}], 'id': 651}, {'answers': [{'text': ''}], 'id': 652}, {'answers': [{'text': ''}], 'id': 653}, {'answers': [{'text': ''}], 'id': 654}, {'answers': [{'text': ''}], 'id': 655}, {'answers': [{'text': ''}], 'id': 656}, {'answers': [{'text': ''}], 'id': 657}, {'answers': [{'text': ''}], 'id': 658}, {'answers': [{'text': ''}], 'id': 659}, {'answers': [{'text': ''}], 'id': 660}, {'answers': [{'text': ''}], 'id': 661}, {'answers': [{'text': ''}], 'id': 662}, {'answers': [{'text': ''}], 'id': 663}, {'answers': [{'text': ''}], 'id': 664}, {'answers': [{'text': ''}], 'id': 665}, {'answers': [{'text': ''}], 'id': 666}, {'answers': [{'text': ''}], 'id': 667}, {'answers': [{'text': ''}], 'id': 668}, {'answers': [{'text': ''}], 'id': 669}, {'answers': [{'text': ''}], 'id': 670}, {'answers': [{'text': ''}], 'id': 671}, {'answers': [{'text': ''}], 'id': 672}, {'answers': [{'text': ''}], 'id': 673}, {'answers': [{'text': ''}], 'id': 674}, {'answers': [{'text': ''}], 'id': 675}, {'answers': [{'text': ''}], 'id': 676}, {'answers': [{'text': ''}], 'id': 677}, {'answers': [{'text': ''}], 'id': 678}, {'answers': [{'text': ''}], 'id': 679}, {'answers': [{'text': ''}], 'id': 680}, {'answers': [{'text': ''}], 'id': 681}, {'answers': [{'text': ''}], 'id': 682}, {'answers': [{'text': ''}], 'id': 683}, {'answers': [{'text': ''}], 'id': 684}, {'answers': [{'text': ''}], 'id': 685}, {'answers': [{'text': ''}], 'id': 686}, {'answers': [{'text': ''}], 'id': 687}, {'answers': [{'text': ''}], 'id': 688}, {'answers': [{'text': ''}], 'id': 689}, {'answers': [{'text': ''}], 'id': 690}, {'answers': [{'text': ''}], 'id': 691}, {'answers': [{'text': ''}], 'id': 692}, {'answers': [{'text': ''}], 'id': 693}, {'answers': [{'text': ''}], 'id': 694}, {'answers': [{'text': ''}], 'id': 695}, {'answers': [{'text': ''}], 'id': 696}, {'answers': [{'text': ''}], 'id': 697}, {'answers': [{'text': ''}], 'id': 698}, {'answers': [{'text': ''}], 'id': 699}, {'answers': [{'text': ''}], 'id': 700}, {'answers': [{'text': ''}], 'id': 701}, {'answers': [{'text': ''}], 'id': 702}, {'answers': [{'text': ''}], 'id': 703}, {'answers': [{'text': ''}], 'id': 704}, {'answers': [{'text': ''}], 'id': 705}, {'answers': [{'text': ''}], 'id': 706}, {'answers': [{'text': ''}], 'id': 707}, {'answers': [{'text': ''}], 'id': 708}, {'answers': [{'text': ''}], 'id': 709}, {'answers': [{'text': ''}], 'id': 710}, {'answers': [{'text': ''}], 'id': 711}, {'answers': [{'text': ''}], 'id': 712}, {'answers': [{'text': ''}], 'id': 713}, {'answers': [{'text': ''}], 'id': 714}, {'answers': [{'text': ''}], 'id': 715}, {'answers': [{'text': ''}], 'id': 716}, {'answers': [{'text': ''}], 'id': 717}, {'answers': [{'text': ''}], 'id': 718}, {'answers': [{'text': ''}], 'id': 719}, {'answers': [{'text': ''}], 'id': 720}, {'answers': [{'text': ''}], 'id': 721}, {'answers': [{'text': ''}], 'id': 722}, {'answers': [{'text': ''}], 'id': 723}, {'answers': [{'text': ''}], 'id': 724}, {'answers': [{'text': ''}], 'id': 725}, {'answers': [{'text': ''}], 'id': 726}, {'answers': [{'text': ''}], 'id': 727}, {'answers': [{'text': ''}], 'id': 728}, {'answers': [{'text': ''}], 'id': 729}, {'answers': [{'text': ''}], 'id': 730}, {'answers': [{'text': ''}], 'id': 731}, {'answers': [{'text': ''}], 'id': 732}, {'answers': [{'text': ''}], 'id': 733}, {'answers': [{'text': ''}], 'id': 734}, {'answers': [{'text': ''}], 'id': 735}, {'answers': [{'text': ''}], 'id': 736}, {'answers': [{'text': ''}], 'id': 737}, {'answers': [{'text': ''}], 'id': 738}, {'answers': [{'text': ''}], 'id': 739}, {'answers': [{'text': ''}], 'id': 740}, {'answers': [{'text': ''}], 'id': 741}, {'answers': [{'text': ''}], 'id': 742}, {'answers': [{'text': ''}], 'id': 743}, {'answers': [{'text': ''}], 'id': 744}, {'answers': [{'text': ''}], 'id': 745}, {'answers': [{'text': ''}], 'id': 746}, {'answers': [{'text': ''}], 'id': 747}, {'answers': [{'text': ''}], 'id': 748}, {'answers': [{'text': ''}], 'id': 749}, {'answers': [{'text': ''}], 'id': 750}, {'answers': [{'text': ''}], 'id': 751}, {'answers': [{'text': ''}], 'id': 752}, {'answers': [{'text': ''}], 'id': 753}, {'answers': [{'text': ''}], 'id': 754}, {'answers': [{'text': ''}], 'id': 755}, {'answers': [{'text': ''}], 'id': 756}, {'answers': [{'text': ''}], 'id': 757}, {'answers': [{'text': ''}], 'id': 758}, {'answers': [{'text': ''}], 'id': 759}, {'answers': [{'text': ''}], 'id': 760}, {'answers': [{'text': ''}], 'id': 761}, {'answers': [{'text': ''}], 'id': 762}, {'answers': [{'text': ''}], 'id': 763}, {'answers': [{'text': ''}], 'id': 764}, {'answers': [{'text': ''}], 'id': 765}, {'answers': [{'text': ''}], 'id': 766}, {'answers': [{'text': ''}], 'id': 767}, {'answers': [{'text': ''}], 'id': 768}, {'answers': [{'text': ''}], 'id': 769}, {'answers': [{'text': ''}], 'id': 770}, {'answers': [{'text': ''}], 'id': 771}, {'answers': [{'text': ''}], 'id': 772}, {'answers': [{'text': ''}], 'id': 773}, {'answers': [{'text': ''}], 'id': 774}, {'answers': [{'text': ''}], 'id': 775}, {'answers': [{'text': ''}], 'id': 776}, {'answers': [{'text': ''}], 'id': 777}, {'answers': [{'text': ''}], 'id': 778}, {'answers': [{'text': ''}], 'id': 779}, {'answers': [{'text': ''}], 'id': 780}, {'answers': [{'text': ''}], 'id': 781}, {'answers': [{'text': ''}], 'id': 782}, {'answers': [{'text': ''}], 'id': 783}, {'answers': [{'text': ''}], 'id': 784}, {'answers': [{'text': ''}], 'id': 785}, {'answers': [{'text': ''}], 'id': 786}, {'answers': [{'text': ''}], 'id': 787}, {'answers': [{'text': ''}], 'id': 788}, {'answers': [{'text': ''}], 'id': 789}, {'answers': [{'text': ''}], 'id': 790}, {'answers': [{'text': ''}], 'id': 791}, {'answers': [{'text': ''}], 'id': 792}, {'answers': [{'text': ''}], 'id': 793}, {'answers': [{'text': ''}], 'id': 794}, {'answers': [{'text': ''}], 'id': 795}, {'answers': [{'text': ''}], 'id': 796}, {'answers': [{'text': ''}], 'id': 797}, {'answers': [{'text': ''}], 'id': 798}, {'answers': [{'text': ''}], 'id': 799}, {'answers': [{'text': ''}], 'id': 800}, {'answers': [{'text': ''}], 'id': 801}, {'answers': [{'text': ''}], 'id': 802}, {'answers': [{'text': ''}], 'id': 803}, {'answers': [{'text': ''}], 'id': 804}, {'answers': [{'text': ''}], 'id': 805}, {'answers': [{'text': ''}], 'id': 806}, {'answers': [{'text': ''}], 'id': 807}, {'answers': [{'text': ''}], 'id': 808}, {'answers': [{'text': ''}], 'id': 809}, {'answers': [{'text': ''}], 'id': 810}, {'answers': [{'text': ''}], 'id': 811}, {'answers': [{'text': ''}], 'id': 812}, {'answers': [{'text': ''}], 'id': 813}, {'answers': [{'text': ''}], 'id': 814}, {'answers': [{'text': ''}], 'id': 815}, {'answers': [{'text': ''}], 'id': 816}, {'answers': [{'text': ''}], 'id': 817}, {'answers': [{'text': ''}], 'id': 818}, {'answers': [{'text': ''}], 'id': 819}, {'answers': [{'text': ''}], 'id': 820}, {'answers': [{'text': ''}], 'id': 821}, {'answers': [{'text': ''}], 'id': 822}, {'answers': [{'text': ''}], 'id': 823}, {'answers': [{'text': ''}], 'id': 824}, {'answers': [{'text': ''}], 'id': 825}, {'answers': [{'text': ''}], 'id': 826}, {'answers': [{'text': ''}], 'id': 827}, {'answers': [{'text': ''}], 'id': 828}, {'answers': [{'text': ''}], 'id': 829}, {'answers': [{'text': ''}], 'id': 830}, {'answers': [{'text': ''}], 'id': 831}, {'answers': [{'text': ''}], 'id': 832}, {'answers': [{'text': ''}], 'id': 833}, {'answers': [{'text': ''}], 'id': 834}, {'answers': [{'text': ''}], 'id': 835}, {'answers': [{'text': ''}], 'id': 836}, {'answers': [{'text': ''}], 'id': 837}, {'answers': [{'text': ''}], 'id': 838}, {'answers': [{'text': ''}], 'id': 839}, {'answers': [{'text': ''}], 'id': 840}, {'answers': [{'text': ''}], 'id': 841}, {'answers': [{'text': ''}], 'id': 842}, {'answers': [{'text': ''}], 'id': 843}, {'answers': [{'text': ''}], 'id': 844}, {'answers': [{'text': ''}], 'id': 845}, {'answers': [{'text': ''}], 'id': 846}, {'answers': [{'text': ''}], 'id': 847}, {'answers': [{'text': ''}], 'id': 848}, {'answers': [{'text': ''}], 'id': 849}, {'answers': [{'text': ''}], 'id': 850}, {'answers': [{'text': ''}], 'id': 851}, {'answers': [{'text': ''}], 'id': 852}, {'answers': [{'text': ''}], 'id': 853}, {'answers': [{'text': ''}], 'id': 854}, {'answers': [{'text': ''}], 'id': 855}, {'answers': [{'text': ''}], 'id': 856}, {'answers': [{'text': ''}], 'id': 857}, {'answers': [{'text': ''}], 'id': 858}, {'answers': [{'text': ''}], 'id': 859}, {'answers': [{'text': ''}], 'id': 860}, {'answers': [{'text': ''}], 'id': 861}, {'answers': [{'text': ''}], 'id': 862}, {'answers': [{'text': ''}], 'id': 863}, {'answers': [{'text': ''}], 'id': 864}, {'answers': [{'text': ''}], 'id': 865}, {'answers': [{'text': ''}], 'id': 866}, {'answers': [{'text': ''}], 'id': 867}, {'answers': [{'text': ''}], 'id': 868}, {'answers': [{'text': ''}], 'id': 869}, {'answers': [{'text': ''}], 'id': 870}, {'answers': [{'text': ''}], 'id': 871}, {'answers': [{'text': ''}], 'id': 872}, {'answers': [{'text': ''}], 'id': 873}, {'answers': [{'text': ''}], 'id': 874}, {'answers': [{'text': ''}], 'id': 875}, {'answers': [{'text': ''}], 'id': 876}, {'answers': [{'text': ''}], 'id': 877}, {'answers': [{'text': ''}], 'id': 878}, {'answers': [{'text': ''}], 'id': 879}, {'answers': [{'text': ''}], 'id': 880}, {'answers': [{'text': ''}], 'id': 881}, {'answers': [{'text': ''}], 'id': 882}, {'answers': [{'text': ''}], 'id': 883}, {'answers': [{'text': ''}], 'id': 884}, {'answers': [{'text': ''}], 'id': 885}, {'answers': [{'text': ''}], 'id': 886}, {'answers': [{'text': ''}], 'id': 887}, {'answers': [{'text': ''}], 'id': 888}, {'answers': [{'text': ''}], 'id': 889}, {'answers': [{'text': ''}], 'id': 890}, {'answers': [{'text': ''}], 'id': 891}, {'answers': [{'text': ''}], 'id': 892}, {'answers': [{'text': ''}], 'id': 893}, {'answers': [{'text': ''}], 'id': 894}, {'answers': [{'text': ''}], 'id': 895}, {'answers': [{'text': ''}], 'id': 896}, {'answers': [{'text': ''}], 'id': 897}, {'answers': [{'text': ''}], 'id': 898}, {'answers': [{'text': ''}], 'id': 899}, {'answers': [{'text': ''}], 'id': 900}, {'answers': [{'text': ''}], 'id': 901}, {'answers': [{'text': ''}], 'id': 902}, {'answers': [{'text': ''}], 'id': 903}, {'answers': [{'text': ''}], 'id': 904}, {'answers': [{'text': ''}], 'id': 905}, {'answers': [{'text': ''}], 'id': 906}, {'answers': [{'text': ''}], 'id': 907}, {'answers': [{'text': ''}], 'id': 908}, {'answers': [{'text': ''}], 'id': 909}, {'answers': [{'text': ''}], 'id': 910}, {'answers': [{'text': ''}], 'id': 911}, {'answers': [{'text': ''}], 'id': 912}, {'answers': [{'text': ''}], 'id': 913}, {'answers': [{'text': ''}], 'id': 914}, {'answers': [{'text': ''}], 'id': 915}, {'answers': [{'text': ''}], 'id': 916}, {'answers': [{'text': ''}], 'id': 917}, {'answers': [{'text': ''}], 'id': 918}, {'answers': [{'text': ''}], 'id': 919}, {'answers': [{'text': ''}], 'id': 920}, {'answers': [{'text': ''}], 'id': 921}, {'answers': [{'text': ''}], 'id': 922}, {'answers': [{'text': ''}], 'id': 923}, {'answers': [{'text': ''}], 'id': 924}, {'answers': [{'text': ''}], 'id': 925}, {'answers': [{'text': ''}], 'id': 926}, {'answers': [{'text': ''}], 'id': 927}, {'answers': [{'text': ''}], 'id': 928}, {'answers': [{'text': ''}], 'id': 929}, {'answers': [{'text': ''}], 'id': 930}, {'answers': [{'text': ''}], 'id': 931}, {'answers': [{'text': ''}], 'id': 932}, {'answers': [{'text': ''}], 'id': 933}, {'answers': [{'text': ''}], 'id': 934}, {'answers': [{'text': ''}], 'id': 935}, {'answers': [{'text': ''}], 'id': 936}, {'answers': [{'text': ''}], 'id': 937}, {'answers': [{'text': ''}], 'id': 938}, {'answers': [{'text': ''}], 'id': 939}, {'answers': [{'text': ''}], 'id': 940}, {'answers': [{'text': ''}], 'id': 941}, {'answers': [{'text': ''}], 'id': 942}, {'answers': [{'text': ''}], 'id': 943}, {'answers': [{'text': ''}], 'id': 944}, {'answers': [{'text': ''}], 'id': 945}, {'answers': [{'text': ''}], 'id': 946}, {'answers': [{'text': ''}], 'id': 947}, {'answers': [{'text': ''}], 'id': 948}, {'answers': [{'text': ''}], 'id': 949}, {'answers': [{'text': ''}], 'id': 950}, {'answers': [{'text': ''}], 'id': 951}, {'answers': [{'text': ''}], 'id': 952}, {'answers': [{'text': ''}], 'id': 953}, {'answers': [{'text': ''}], 'id': 954}, {'answers': [{'text': ''}], 'id': 955}, {'answers': [{'text': ''}], 'id': 956}, {'answers': [{'text': ''}], 'id': 957}, {'answers': [{'text': ''}], 'id': 958}, {'answers': [{'text': ''}], 'id': 959}, {'answers': [{'text': ''}], 'id': 960}, {'answers': [{'text': ''}], 'id': 961}, {'answers': [{'text': ''}], 'id': 962}, {'answers': [{'text': ''}], 'id': 963}, {'answers': [{'text': ''}], 'id': 964}, {'answers': [{'text': ''}], 'id': 965}, {'answers': [{'text': ''}], 'id': 966}, {'answers': [{'text': ''}], 'id': 967}, {'answers': [{'text': ''}], 'id': 968}, {'answers': [{'text': ''}], 'id': 969}, {'answers': [{'text': ''}], 'id': 970}, {'answers': [{'text': ''}], 'id': 971}, {'answers': [{'text': ''}], 'id': 972}, {'answers': [{'text': ''}], 'id': 973}, {'answers': [{'text': ''}], 'id': 974}, {'answers': [{'text': ''}], 'id': 975}, {'answers': [{'text': ''}], 'id': 976}, {'answers': [{'text': ''}], 'id': 977}, {'answers': [{'text': ''}], 'id': 978}, {'answers': [{'text': ''}], 'id': 979}, {'answers': [{'text': ''}], 'id': 980}, {'answers': [{'text': ''}], 'id': 981}, {'answers': [{'text': ''}], 'id': 982}, {'answers': [{'text': ''}], 'id': 983}, {'answers': [{'text': ''}], 'id': 984}, {'answers': [{'text': ''}], 'id': 985}, {'answers': [{'text': ''}], 'id': 986}, {'answers': [{'text': ''}], 'id': 987}, {'answers': [{'text': ''}], 'id': 988}, {'answers': [{'text': ''}], 'id': 989}, {'answers': [{'text': ''}], 'id': 990}, {'answers': [{'text': ''}], 'id': 991}, {'answers': [{'text': ''}], 'id': 992}, {'answers': [{'text': ''}], 'id': 993}, {'answers': [{'text': ''}], 'id': 994}, {'answers': [{'text': ''}], 'id': 995}, {'answers': [{'text': ''}], 'id': 996}, {'answers': [{'text': ''}], 'id': 997}, {'answers': [{'text': ''}], 'id': 998}, {'answers': [{'text': ''}], 'id': 999}, {'answers': [{'text': ''}], 'id': 1000}, {'answers': [{'text': ''}], 'id': 1001}, {'answers': [{'text': ''}], 'id': 1002}, {'answers': [{'text': ''}], 'id': 1003}, {'answers': [{'text': ''}], 'id': 1004}, {'answers': [{'text': ''}], 'id': 1005}, {'answers': [{'text': ''}], 'id': 1006}, {'answers': [{'text': ''}], 'id': 1007}, {'answers': [{'text': ''}], 'id': 1008}, {'answers': [{'text': ''}], 'id': 1009}, {'answers': [{'text': ''}], 'id': 1010}, {'answers': [{'text': ''}], 'id': 1011}, {'answers': [{'text': ''}], 'id': 1012}, {'answers': [{'text': ''}], 'id': 1013}, {'answers': [{'text': ''}], 'id': 1014}, {'answers': [{'text': ''}], 'id': 1015}, {'answers': [{'text': ''}], 'id': 1016}, {'answers': [{'text': ''}], 'id': 1017}, {'answers': [{'text': ''}], 'id': 1018}, {'answers': [{'text': ''}], 'id': 1019}, {'answers': [{'text': ''}], 'id': 1020}, {'answers': [{'text': ''}], 'id': 1021}, {'answers': [{'text': ''}], 'id': 1022}, {'answers': [{'text': ''}], 'id': 1023}, {'answers': [{'text': ''}], 'id': 1024}, {'answers': [{'text': ''}], 'id': 1025}, {'answers': [{'text': ''}], 'id': 1026}, {'answers': [{'text': ''}], 'id': 1027}, {'answers': [{'text': ''}], 'id': 1028}, {'answers': [{'text': ''}], 'id': 1029}, {'answers': [{'text': ''}], 'id': 1030}, {'answers': [{'text': ''}], 'id': 1031}, {'answers': [{'text': ''}], 'id': 1032}, {'answers': [{'text': ''}], 'id': 1033}, {'answers': [{'text': ''}], 'id': 1034}, {'answers': [{'text': ''}], 'id': 1035}, {'answers': [{'text': ''}], 'id': 1036}, {'answers': [{'text': ''}], 'id': 1037}, {'answers': [{'text': ''}], 'id': 1038}, {'answers': [{'text': ''}], 'id': 1039}, {'answers': [{'text': ''}], 'id': 1040}, {'answers': [{'text': ''}], 'id': 1041}, {'answers': [{'text': ''}], 'id': 1042}, {'answers': [{'text': ''}], 'id': 1043}, {'answers': [{'text': ''}], 'id': 1044}, {'answers': [{'text': ''}], 'id': 1045}, {'answers': [{'text': ''}], 'id': 1046}, {'answers': [{'text': ''}], 'id': 1047}, {'answers': [{'text': ''}], 'id': 1048}, {'answers': [{'text': ''}], 'id': 1049}, {'answers': [{'text': ''}], 'id': 1050}, {'answers': [{'text': ''}], 'id': 1051}, {'answers': [{'text': ''}], 'id': 1052}, {'answers': [{'text': ''}], 'id': 1053}, {'answers': [{'text': ''}], 'id': 1054}, {'answers': [{'text': ''}], 'id': 1055}, {'answers': [{'text': ''}], 'id': 1056}, {'answers': [{'text': ''}], 'id': 1057}, {'answers': [{'text': ''}], 'id': 1058}, {'answers': [{'text': ''}], 'id': 1059}, {'answers': [{'text': ''}], 'id': 1060}, {'answers': [{'text': ''}], 'id': 1061}, {'answers': [{'text': ''}], 'id': 1062}, {'answers': [{'text': ''}], 'id': 1063}, {'answers': [{'text': ''}], 'id': 1064}, {'answers': [{'text': ''}], 'id': 1065}, {'answers': [{'text': ''}], 'id': 1066}, {'answers': [{'text': ''}], 'id': 1067}, {'answers': [{'text': ''}], 'id': 1068}, {'answers': [{'text': ''}], 'id': 1069}, {'answers': [{'text': ''}], 'id': 1070}, {'answers': [{'text': ''}], 'id': 1071}, {'answers': [{'text': ''}], 'id': 1072}, {'answers': [{'text': ''}], 'id': 1073}, {'answers': [{'text': ''}], 'id': 1074}, {'answers': [{'text': ''}], 'id': 1075}, {'answers': [{'text': ''}], 'id': 1076}, {'answers': [{'text': ''}], 'id': 1077}, {'answers': [{'text': ''}], 'id': 1078}, {'answers': [{'text': ''}], 'id': 1079}, {'answers': [{'text': ''}], 'id': 1080}, {'answers': [{'text': ''}], 'id': 1081}, {'answers': [{'text': ''}], 'id': 1082}, {'answers': [{'text': ''}], 'id': 1083}, {'answers': [{'text': ''}], 'id': 1084}, {'answers': [{'text': ''}], 'id': 1085}, {'answers': [{'text': ''}], 'id': 1086}, {'answers': [{'text': ''}], 'id': 1087}, {'answers': [{'text': ''}], 'id': 1088}, {'answers': [{'text': ''}], 'id': 1089}, {'answers': [{'text': ''}], 'id': 1090}, {'answers': [{'text': ''}], 'id': 1091}, {'answers': [{'text': ''}], 'id': 1092}, {'answers': [{'text': ''}], 'id': 1093}, {'answers': [{'text': ''}], 'id': 1094}, {'answers': [{'text': ''}], 'id': 1095}, {'answers': [{'text': ''}], 'id': 1096}, {'answers': [{'text': ''}], 'id': 1097}, {'answers': [{'text': ''}], 'id': 1098}, {'answers': [{'text': ''}], 'id': 1099}, {'answers': [{'text': ''}], 'id': 1100}, {'answers': [{'text': ''}], 'id': 1101}, {'answers': [{'text': ''}], 'id': 1102}, {'answers': [{'text': ''}], 'id': 1103}, {'answers': [{'text': ''}], 'id': 1104}, {'answers': [{'text': ''}], 'id': 1105}, {'answers': [{'text': ''}], 'id': 1106}, {'answers': [{'text': ''}], 'id': 1107}, {'answers': [{'text': ''}], 'id': 1108}, {'answers': [{'text': ''}], 'id': 1109}, {'answers': [{'text': ''}], 'id': 1110}, {'answers': [{'text': ''}], 'id': 1111}, {'answers': [{'text': ''}], 'id': 1112}, {'answers': [{'text': ''}], 'id': 1113}, {'answers': [{'text': ''}], 'id': 1114}, {'answers': [{'text': ''}], 'id': 1115}, {'answers': [{'text': ''}], 'id': 1116}, {'answers': [{'text': ''}], 'id': 1117}, {'answers': [{'text': ''}], 'id': 1118}, {'answers': [{'text': ''}], 'id': 1119}, {'answers': [{'text': ''}], 'id': 1120}, {'answers': [{'text': ''}], 'id': 1121}, {'answers': [{'text': ''}], 'id': 1122}, {'answers': [{'text': ''}], 'id': 1123}, {'answers': [{'text': ''}], 'id': 1124}, {'answers': [{'text': ''}], 'id': 1125}, {'answers': [{'text': ''}], 'id': 1126}, {'answers': [{'text': ''}], 'id': 1127}, {'answers': [{'text': ''}], 'id': 1128}, {'answers': [{'text': ''}], 'id': 1129}, {'answers': [{'text': ''}], 'id': 1130}, {'answers': [{'text': ''}], 'id': 1131}, {'answers': [{'text': ''}], 'id': 1132}, {'answers': [{'text': ''}], 'id': 1133}, {'answers': [{'text': ''}], 'id': 1134}, {'answers': [{'text': ''}], 'id': 1135}, {'answers': [{'text': ''}], 'id': 1136}, {'answers': [{'text': ''}], 'id': 1137}, {'answers': [{'text': ''}], 'id': 1138}, {'answers': [{'text': ''}], 'id': 1139}, {'answers': [{'text': ''}], 'id': 1140}, {'answers': [{'text': ''}], 'id': 1141}, {'answers': [{'text': ''}], 'id': 1142}, {'answers': [{'text': ''}], 'id': 1143}, {'answers': [{'text': ''}], 'id': 1144}, {'answers': [{'text': ''}], 'id': 1145}, {'answers': [{'text': ''}], 'id': 1146}, {'answers': [{'text': ''}], 'id': 1147}, {'answers': [{'text': ''}], 'id': 1148}, {'answers': [{'text': ''}], 'id': 1149}, {'answers': [{'text': ''}], 'id': 1150}, {'answers': [{'text': ''}], 'id': 1151}, {'answers': [{'text': ''}], 'id': 1152}, {'answers': [{'text': ''}], 'id': 1153}, {'answers': [{'text': ''}], 'id': 1154}, {'answers': [{'text': ''}], 'id': 1155}, {'answers': [{'text': ''}], 'id': 1156}, {'answers': [{'text': ''}], 'id': 1157}, {'answers': [{'text': ''}], 'id': 1158}, {'answers': [{'text': ''}], 'id': 1159}, {'answers': [{'text': ''}], 'id': 1160}, {'answers': [{'text': ''}], 'id': 1161}, {'answers': [{'text': ''}], 'id': 1162}, {'answers': [{'text': ''}], 'id': 1163}, {'answers': [{'text': ''}], 'id': 1164}, {'answers': [{'text': ''}], 'id': 1165}, {'answers': [{'text': ''}], 'id': 1166}, {'answers': [{'text': ''}], 'id': 1167}, {'answers': [{'text': ''}], 'id': 1168}, {'answers': [{'text': ''}], 'id': 1169}, {'answers': [{'text': ''}], 'id': 1170}, {'answers': [{'text': ''}], 'id': 1171}, {'answers': [{'text': ''}], 'id': 1172}, {'answers': [{'text': ''}], 'id': 1173}, {'answers': [{'text': ''}], 'id': 1174}, {'answers': [{'text': ''}], 'id': 1175}, {'answers': [{'text': ''}], 'id': 1176}, {'answers': [{'text': ''}], 'id': 1177}, {'answers': [{'text': ''}], 'id': 1178}, {'answers': [{'text': ''}], 'id': 1179}, {'answers': [{'text': ''}], 'id': 1180}, {'answers': [{'text': ''}], 'id': 1181}, {'answers': [{'text': ''}], 'id': 1182}, {'answers': [{'text': ''}], 'id': 1183}, {'answers': [{'text': ''}], 'id': 1184}, {'answers': [{'text': ''}], 'id': 1185}, {'answers': [{'text': ''}], 'id': 1186}, {'answers': [{'text': ''}], 'id': 1187}, {'answers': [{'text': ''}], 'id': 1188}, {'answers': [{'text': ''}], 'id': 1189}, {'answers': [{'text': ''}], 'id': 1190}]}]}\n"
          ]
        },
        {
          "output_type": "execute_result",
          "data": {
            "text/plain": [
              "{'exact_match': 47.52308984047019, 'f1': 51.88941364744621}"
            ]
          },
          "metadata": {},
          "execution_count": 24
        }
      ]
    }
  ]
}